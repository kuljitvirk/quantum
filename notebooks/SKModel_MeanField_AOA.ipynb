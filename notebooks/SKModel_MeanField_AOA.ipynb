{
 "cells": [
  {
   "attachments": {},
   "cell_type": "markdown",
   "id": "bb636d5a-2b96-48c4-8c13-9cba7e9a223c",
   "metadata": {},
   "source": [
    "# Sherrington-Kirkpatrick Model\n",
    "Sherrington Kirkpatrick model has the Hamiltonian or cost function\n",
    "\n",
    "$$ C_J = -\\frac{1}{2} \\sum_{i\\neq j}J_{ij}s_i s_j $$\n",
    "\n",
    "In this model, $J_{ij}$ are Gaussian distribtued with zero mean and variance of $1/N$, and $s_i$ are Ising spins with values $s_i\\in\\{+1,-1\\}$. Minimization of the cost function, or finding the ground state energy of $C$ is N-p complete problem. \n",
    "\n",
    "In the file `apa.py`, the `class` `MeanFieldSK` implements the classical mean field dynamics of a 3-dimensional spin vector under the alternating application of the Hamiltonians,\n",
    "\n",
    "$$ H_P = -\\sum_i h_i \\sigma^z_i - \\frac{1}{2}\\sum_{i\\neq j} J_ij \\sigma^z_i \\sigma^z_j, $$\n",
    "and\n",
    "$$ H_D = -\\sum_i \\Delta_i \\sigma^x_i. $$\n",
    "\n",
    "The constants $\\Delta_i > 0$, which ensures that the ground state of $H_D$ is a product state of qubits in $+1$ eigenstate of $\\sigma^x$. The alternating sequence arises from the quantum approximate optimization algorithm (QAOA) [2]. The QAOA is a general-purpose algorithm for combinatorial optimization problems more general than the SK model. However, its application to finding the ground state energy of the SK model is a valuable benchmark. The alternating sequence also arises from the quantum adiabatic algorithm, which aims to take the ground state of the solvable Hamiltonian $H_D$ into the one for the difficult case of $H_P$, via the evolution\n",
    "\n",
    "$$ H(t) = \\left(1-\\frac{t}{T}\\right)H_D + \\frac{t}{T}H_P. $$\n",
    "\n",
    "Trotter-Suzuki scheme then creates a sequence of alternating applications of $H_D$ and $H_P$.\n",
    "\n",
    "In the article [1], the authors derive a mean-field approximation to the above dynamics. In the mean-field approximation, the total Hamiltonian is\n",
    "\n",
    "$$ H(t) = -\\gamma(t)\\sum_i m_i(t)n^z_i(t) -\\beta(t)\\sum_i \\Delta_i n_i^x(t), $$\n",
    "\n",
    "where $\\mathbf{n}_i(t)$ is now a classical 3-vector with unit norm, and they define an effective magnetization,\n",
    "\n",
    "$$ m_i(t) = \\sum_i h_i + \\frac{1}{2}\\sum_{i\\neq j} J_{ij} n^z_h(t). $$\n",
    "\n",
    "They propose an algorithm in the paper that minimizes $H(t)$ in the limit of large number of time steps. After minimization, they propose that the Ising spins defined by,\n",
    "\n",
    "$$ s_i \\equiv \\text{sgn}(n^z_i), $$\n",
    "\n",
    "are a very good approximation to the minimizer of $C_J$. It is known that in the typical case, the minimimum value achieved is\n",
    "\n",
    "$$ \\lim_{N\\rightarrow\\infty} \\frac{1}{N}\\max_{\\mathbf{s}}C_J(\\mathbf{s}) = -0.763166\\ldots $$\n",
    "\n",
    "In this notebook, I implement the authors' algorithm. I find the minimium of -0.7388, which is close to the one expected. I used $N=200$, a time step of $~0.5$, and executed the dynamics for 10,000 time steps. \n",
    "\n",
    "References:<br>\n",
    "[1. Mean-Field Approximate Optimization Algorithm](https://arxiv.org/abs/2303.00329) <br>\n",
    "[2. A Quantum Approximate Optimization Algorithm ](https://arxiv.org/abs/1411.4028)<br>\n",
    "[3. The Quantum Approximate Optimization Algorithm and the Sherrington-Kirkpatrick Model at Infinite Size](https://quantum-journal.org/papers/q-2022-07-07-759/)"
   ]
  },
  {
   "cell_type": "code",
   "execution_count": 4,
   "id": "255c5215-b0fd-4798-aa01-1cfc36f35a04",
   "metadata": {},
   "outputs": [],
   "source": [
    "from quantum.qprimitives import aoa\n",
    "import numpy as np\n",
    "from matplotlib import pyplot as plt\n",
    "from scipy import optimize\n",
    "%matplotlib inline"
   ]
  },
  {
   "cell_type": "code",
   "execution_count": 5,
   "id": "d4f7e0c4-4c9c-4410-9763-a7d0b59decdb",
   "metadata": {},
   "outputs": [],
   "source": [
    "# Cost function\n",
    "def cost_sigma(obj):\n",
    "    s = np.sign(obj.nvec[:,2])\n",
    "    return -(s @ (obj.J @ s))"
   ]
  },
  {
   "cell_type": "code",
   "execution_count": 6,
   "id": "bce9826a-7f1a-4867-90b0-b0b0d7b20b60",
   "metadata": {},
   "outputs": [
    {
     "name": "stdout",
     "output_type": "stream",
     "text": [
      "Optimal tau 1.4692299282557282\n",
      "-0.7132703732187466\n"
     ]
    }
   ],
   "source": [
    "tau = 0.5\n",
    "# Optimize the time step, tau\n",
    "if 1:\n",
    "    obj=aoa.MeanFieldSK(N=200,Jsq=1,tau=tau, p=10000)\n",
    "    sol=optimize.minimize_scalar(lambda x : obj.costfunc((x,obj.p)),bracket=[0.4,0.8])\n",
    "    print('Optimal tau',sol.x)\n",
    "    tau = sol.x\n",
    "#\n",
    "E=[]\n",
    "for _ in range(10):\n",
    "    obj=aoa.MeanFieldSK(N=200,Jsq=1,tau=tau, p=10000)\n",
    "    obj.costfunc((tau,10000))\n",
    "    E+=[obj.cost_spin()]\n",
    "#\n",
    "E = np.array(E)\n",
    "print(E.mean())    "
   ]
  },
  {
   "cell_type": "code",
   "execution_count": null,
   "id": "d1e25c16-47d6-4547-a539-c63bae34c1f2",
   "metadata": {},
   "outputs": [],
   "source": []
  }
 ],
 "metadata": {
  "kernelspec": {
   "display_name": "Python 3 (ipykernel)",
   "language": "python",
   "name": "python3"
  },
  "language_info": {
   "codemirror_mode": {
    "name": "ipython",
    "version": 3
   },
   "file_extension": ".py",
   "mimetype": "text/x-python",
   "name": "python",
   "nbconvert_exporter": "python",
   "pygments_lexer": "ipython3",
   "version": "3.11.4"
  }
 },
 "nbformat": 4,
 "nbformat_minor": 5
}
