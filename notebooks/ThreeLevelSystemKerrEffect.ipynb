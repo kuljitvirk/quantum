{
 "cells": [
  {
   "cell_type": "code",
   "execution_count": 1,
   "metadata": {},
   "outputs": [],
   "source": [
    "import numpy as np\n",
    "from scipy import linalg\n",
    "from math import pi\n",
    "from quantum.utils import plotting as PLT"
   ]
  },
  {
   "cell_type": "code",
   "execution_count": 2,
   "metadata": {},
   "outputs": [],
   "source": [
    "states=np.array([\n",
    "    (0,0,0),\n",
    "    (1,0,0),\n",
    "    (0,0,1),\n",
    "    (0,1,0),\n",
    "    (0,0,2),\n",
    "    (1,1,0),\n",
    "    (0,1,1),\n",
    "    (1,0,2)\n",
    "])\n",
    "Nstates = len(states)\n",
    "\n",
    "Hgate = np.array([[1,1,0,0],[1,-1,0,0],[0,0,1,1],[0,0,1,-1]])/np.sqrt(2)\n",
    "CN = np.array([[1,0,0,0],[0,1,0,0],[0,0,0,1],[0,0,1,0]])\n",
    "\n",
    "statevec = dict([(tuple(state), i) for i, state in enumerate(states)])\n",
    "\n",
    "photon_states=[(0,0),(1,0),(0,1),(1,1)]\n",
    "Nphoton_states = len(photon_states)\n",
    "\n",
    "def partial_trace_atom( matrix ):\n",
    "    output = np.zeros((Nphoton_states, Nphoton_states),dtype=matrix.dtype)\n",
    "    for na in [0,1,2]:\n",
    "        for row,bra in enumerate(photon_states):\n",
    "            for col,ket in enumerate(photon_states):\n",
    "                full_bra = bra + (na,)\n",
    "                full_ket = ket + (na,)\n",
    "                if full_bra in statevec and full_ket in statevec:\n",
    "                    i = statevec[full_bra]\n",
    "                    j = statevec[full_ket]\n",
    "                    output[row,col] += matrix[i,j]\n",
    "    return output\n",
    "\n",
    "def projection( matrix, na1, na2 ):\n",
    "    output = np.zeros((Nphoton_states, Nphoton_states),dtype=matrix.dtype)\n",
    "    for row,bra in enumerate(photon_states):\n",
    "        for col,ket in enumerate(photon_states):\n",
    "            full_bra = bra + (na1,)\n",
    "            full_ket = ket + (na2,)\n",
    "            if full_bra in statevec and full_ket in statevec:\n",
    "                i = statevec[full_bra]\n",
    "                j = statevec[full_ket]\n",
    "                output[row,col] += matrix[i,j]\n",
    "                #print(row,col,':',full_bra,',',full_ket,';',i,',',j,';', np.abs(matrix[i,j]))\n",
    "    return output\n"
   ]
  },
  {
   "cell_type": "code",
   "execution_count": 3,
   "metadata": {},
   "outputs": [],
   "source": [
    "def Hamiltonian(delta, ga, gb):\n",
    "    H = np.zeros((Nstates,Nstates))\n",
    "    H[0,0] = delta\n",
    "    H[1:3,1:3] = [[-delta, ga],[ga, delta]]\n",
    "    H[3:5,3:5] = [[-delta, gb],[gb, delta]]\n",
    "    np.fill_diagonal(H[5:,5:],[-delta,delta,delta])\n",
    "    H[5,[6,7]] = [ga,gb]\n",
    "    H[[6,7],5] = [ga,gb]\n",
    "    return H\n",
    "\n",
    "def EvolutionOperator(H,t):\n",
    "    # H = V diag(E) V^T \n",
    "    E,V = np.linalg.eigh(H)\n",
    "    return V @ np.diag(np.exp(-1j*E*t)) @ V.T"
   ]
  },
  {
   "cell_type": "markdown",
   "metadata": {},
   "source": [
    "## Krauss Operator form for the reduced dynamics"
   ]
  },
  {
   "cell_type": "code",
   "execution_count": 4,
   "metadata": {},
   "outputs": [],
   "source": [
    "H = Hamiltonian(0.2,1,1)\n",
    "def reduced_prop(R0,U):\n",
    "    W = [projection(U, a,0) for a in [0,1,2]]\n",
    "    R = np.sum([w @ R0 @ w.conj().T for w in W],axis=0)\n",
    "    return R\n",
    "\n",
    "def phase(z):\n",
    "    phi = np.arctan2(z.imag, z.real)\n",
    "    #phi += 2*pi if phi < -1e-4 else 0\n",
    "    return phi"
   ]
  },
  {
   "cell_type": "markdown",
   "metadata": {},
   "source": [
    "Note that the different blocks of the Hamiltonians have different reference energies. This does not cause a problem in the exponentiation since the different blocks are not coupled. However, it does matter when we compare relative phase shift between the states in each block. \n",
    "\n",
    "In the first block with 1 photon + atom, the reference energy is $\\omega + \\delta$. In the second block, with an additional photon, the reference energy has an extra $\\omega$ component from the second photon.\n",
    "\n",
    "In the calculaion below, I define the total phase of the states with respect to the phase they would have at zero coupling. For the states with atom in the ground state, the phase is $\\delta$ when exponentiating as $e^{-iHt}$. Thus the relative phase shift between the states $\\psi_a$, $\\psi_b$ and $\\psi_{ab}$ is \n",
    "\n",
    "$$  \\Delta =  \\phi_{ab} - \\delta - (\\phi_a-\\delta) - (\\phi_b-\\delta). $$"
   ]
  },
  {
   "cell_type": "code",
   "execution_count": 5,
   "metadata": {},
   "outputs": [
    {
     "data": {
      "text/plain": [
       "Text(0, 0.5, 'Relative Phase [deg]')"
      ]
     },
     "execution_count": 5,
     "metadata": {},
     "output_type": "execute_result"
    },
    {
     "data": {
      "image/png": "[encoded data removed]",
      "text/plain": [
       "<Figure size 640x480 with 1 Axes>"
      ]
     },
     "metadata": {},
     "output_type": "display_data"
    }
   ],
   "source": [
    "def getW0(delta,ga,gb,t):\n",
    "    H = Hamiltonian(delta, ga,gb)\n",
    "    U = EvolutionOperator(H, t)\n",
    "    W0 = projection(U, 0, 0)\n",
    "    return W0\n",
    "\n",
    "detune = np.arange(-2,2.1,0.01)\n",
    "phi=[]\n",
    "g = 1\n",
    "for d in detune:\n",
    "    W0 = getW0(d, 1, 1, 0.98)\n",
    "    phi += [[phase(w) for w in np.diagonal(W0)]]\n",
    "phi = np.array(phi)\n",
    "\n",
    "fig,ax=PLT.subplots()\n",
    "ax.plot(detune, (phi[:,3]-phi[:,1]-phi[:,2] + detune) * 180/pi)\n",
    "ax.grid(True)\n",
    "ax.set_xlabel('Detuning')\n",
    "ax.set_ylabel('Relative Phase [deg]')"
   ]
  },
  {
   "cell_type": "code",
   "execution_count": 6,
   "metadata": {},
   "outputs": [
    {
     "name": "stdout",
     "output_type": "stream",
     "text": [
      "[[1.   0.   0.   0.  ]\n",
      " [0.   0.59 0.   0.  ]\n",
      " [0.   0.   0.59 0.  ]\n",
      " [0.   0.   0.   0.34]]\n",
      "[[-0.5   0.    0.    0.  ]\n",
      " [ 0.    0.74  0.    0.  ]\n",
      " [ 0.    0.    0.74  0.  ]\n",
      " [ 0.    0.    0.    1.36]]\n"
     ]
    }
   ],
   "source": [
    "R0 = np.diag([0,0.,0,1])\n",
    "W0 = getW0(0.5,1,1,1)\n",
    "W0p = np.diag(np.diagonal(W0)/np.abs(np.diagonal(W0)))\n",
    "with np.printoptions(precision=2):\n",
    "    print(np.abs(W0))\n",
    "    print(np.arctan2(W0p.imag, W0p.real))"
   ]
  },
  {
   "cell_type": "code",
   "execution_count": 7,
   "metadata": {},
   "outputs": [],
   "source": [
    "K = CN @ linalg.inv(W0p) "
   ]
  },
  {
   "cell_type": "code",
   "execution_count": 8,
   "metadata": {},
   "outputs": [
    {
     "name": "stdout",
     "output_type": "stream",
     "text": [
      "[[0.88+0.48j 0.  +0.j   0.  +0.j   0.  +0.j  ]\n",
      " [0.  +0.j   0.74-0.68j 0.  +0.j   0.  +0.j  ]\n",
      " [0.  +0.j   0.  +0.j   0.  +0.j   0.21-0.98j]\n",
      " [0.  +0.j   0.  +0.j   0.74-0.68j 0.  +0.j  ]]\n"
     ]
    }
   ],
   "source": [
    "with np.printoptions(precision=2):\n",
    "    print(K)"
   ]
  },
  {
   "cell_type": "code",
   "execution_count": 9,
   "metadata": {},
   "outputs": [
    {
     "data": {
      "text/plain": [
       "(0.508776030196507+0.8608989203718882j)"
      ]
     },
     "execution_count": 9,
     "metadata": {},
     "output_type": "execute_result"
    }
   ],
   "source": [
    "linalg.det(K[2:,2:])"
   ]
  },
  {
   "cell_type": "code",
   "execution_count": null,
   "metadata": {},
   "outputs": [],
   "source": []
  }
 ],
 "metadata": {
  "kernelspec": {
   "display_name": "pmp",
   "language": "python",
   "name": "python3"
  },
  "language_info": {
   "codemirror_mode": {
    "name": "ipython",
    "version": 3
   },
   "file_extension": ".py",
   "mimetype": "text/x-python",
   "name": "python",
   "nbconvert_exporter": "python",
   "pygments_lexer": "ipython3",
   "version": "3.11.9"
  }
 },
 "nbformat": 4,
 "nbformat_minor": 2
}
