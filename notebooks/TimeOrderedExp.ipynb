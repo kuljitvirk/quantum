{
 "cells": [
  {
   "cell_type": "markdown",
   "id": "4a27a64d-729d-41a6-9724-beae29ee4ed7",
   "metadata": {},
   "source": [
    "# Time Ordered Exponential and Floquet Expansion\n",
    "In this notebook, we compute the time ordered exponential of a harmonically driven Hamiltonian of a 2-level system. The Hamiltonian is:\n",
    "\n",
    "$$\n",
    " H(t) = \\frac{1}{2} E_0 Z + \\frac{1}{2} V_0 \\sin(\\omega t)X\n",
    "$$\n",
    "\n",
    "We apply the Trotter-Suzuki formula with time step $\\delta t$. In its simplest form, the formula replaces $H(t)$ by a piecewise constant function that remains constant in time intervals $[t,t+\\delta t]$ at its value at the beginning of the interval. Therefore, the unitary evolution operator to propagate the quantum state from time $t$ to time $t+\\delta t$ is,\n",
    "\n",
    "$$\n",
    "U_{\\delta t}(t)\\equiv\\exp{\\left[-i \\frac{\\delta t}{\\hbar} H(t)\\right]} = I \\cos(\\Omega(t)\\delta t) - i \\left[E_0 Z + V_0 \\sin(\\omega t) X\\right] \\frac{\\sin(\\Omega(t)\\delta t)}{2 \\Omega(t)},\n",
    "$$\n",
    "\n",
    "where we have defined,\n",
    "\n",
    "$$\n",
    "\\Omega(t) = \\frac{1}{2\\hbar}\\sqrt{E_0^2 + V_0^2 \\sin^2(\\omega t)}.\n",
    "$$\n",
    "\n",
    "The time-ordered evolution operator between time $t_0$ and $t$ is,\n",
    "\n",
    "$$\n",
    "\\mathcal{T} \\exp{\\left[\\frac{-i}{\\hbar}\\int_{t_0}^{t} H(t')dt'\\right]} = U_{\\delta t}(t-\\delta t)\\cdots U_{\\delta t}(t_0+2\\delta t)U_{\\delta t}(t_0+\\delta t)U_{\\delta t}(t_0).\n",
    "$$\n",
    "\n",
    "To propagate a quantum state from initial value $\\psi(t_0)$ to an arbitrary time $\\psi(t)$ later, the above formula gives the recurrence relation,\n",
    "\n",
    "$$\n",
    "\\psi(t = t_0) = \\psi_0,\n",
    "$$\n",
    "\n",
    "$$\n",
    "\\psi(t + \\delta t) = U_{\\delta t}(t) \\psi(t).\n",
    "$$"
   ]
  },
  {
   "cell_type": "code",
   "execution_count": 2,
   "id": "50a5c22c-42e4-4be5-b40f-ac7817259895",
   "metadata": {},
   "outputs": [],
   "source": [
    "import numpy as np\n",
    "from scipy.integrate import solve_ivp\n",
    "from scipy import signal\n",
    "from math import pi\n",
    "from matplotlib import pyplot as plt"
   ]
  },
  {
   "cell_type": "markdown",
   "id": "bafb4fef",
   "metadata": {},
   "source": [
    "Below we implement 3 functions to realize the time-ordered exponentials above."
   ]
  },
  {
   "cell_type": "code",
   "execution_count": 7,
   "id": "c67bac0c-2682-4608-ad2d-dad8ca695c4d",
   "metadata": {},
   "outputs": [],
   "source": [
    "# We will use time in energy units so that hbar=1\n",
    "# Pauli Z matrix\n",
    "Z = np.array([[1,0],[0,-1]])\n",
    "# Pauli X matrix\n",
    "X = np.array([[0,1],[1, 0]])\n",
    "\n",
    "def Hamiltonian(t, E0, V0, omega):\n",
    "    \"\"\"Implements the Hamiltonian function H(t) above\n",
    "    \"\"\"\n",
    "    H = E0/2 * Z + V0 / 2 * np.sin(omega*t) * X\n",
    "    return H\n",
    "\n",
    "def Omega(t, E0, V0, omega):\n",
    "    return 1/2 * np.sqrt( E0**2 + V0**2 * np.sin(omega*t)**2 )\n",
    "\n",
    "def UnitaryStep(dt, t, E0, V0, omega):\n",
    "    \"\"\"Implements the single step for unitary evolution, U_{delta t}(t) above.\n",
    "    \"\"\"\n",
    "    W = Omega(t,E0,V0,omega)\n",
    "    H = Hamiltonian(t,E0,V0,omega)\n",
    "    U = np.cos(W*dt)*np.eye(2) - 1j* np.sin(W*dt)/ W * H\n",
    "    return U\n",
    "    \n",
    "def PropagateState(psi0, tmax, E0, V0, omega, dt):\n",
    "    \"\"\"Implements the evolution of initial state to final state as shown in the last equation in the introduction.\n",
    "    \"\"\"\n",
    "    t = np.arange(0, tmax, dt)\n",
    "    psi = np.zeros((len(t), 2),dtype=complex)\n",
    "    psi[0] = psi0\n",
    "    for i in range(1,len(t)):\n",
    "        U1 = UnitaryStep(t[i]-t[i-1], t[i-1], E0, V0, omega)\n",
    "        psi[i] = U1 @ psi[i-1]\n",
    "    return psi, t"
   ]
  },
  {
   "cell_type": "markdown",
   "id": "c1a7fc93",
   "metadata": {},
   "source": [
    "The next three functions implement the substitution of"
   ]
  },
  {
   "cell_type": "code",
   "execution_count": 33,
   "id": "daa07c8a",
   "metadata": {},
   "outputs": [],
   "source": [
    "def dpsidt(t , psi, E0, V0, omega):\n",
    "    H = Hamiltonian(t,E0, V0, omega)\n",
    "    dy = -1j * (H @ psi)\n",
    "    return dy\n",
    "\n",
    "def EvalResidual(t, psi, E0, V0, omega):\n",
    "    dydt = np.gradient(psi, t[1]-t[0], axis=0)\n",
    "    rhs = np.array([-1j*Hamiltonian(t[i],E0, V0, omega) @ psi[i] for i in range(len(t))])\n",
    "    res = (np.abs(dydt-rhs)**2).sum(axis=1)\n",
    "    return res"
   ]
  },
  {
   "cell_type": "code",
   "execution_count": 34,
   "id": "fb1ea657-b905-48da-879a-d76a48a878af",
   "metadata": {},
   "outputs": [
    {
     "name": "stdout",
     "output_type": "stream",
     "text": [
      "(1000, 2)\n"
     ]
    },
    {
     "data": {
      "text/plain": [
       "[<matplotlib.lines.Line2D at 0x7f553ea414d0>]"
      ]
     },
     "execution_count": 34,
     "metadata": {},
     "output_type": "execute_result"
    },
    {
     "data": {
      "image/png": "[encoded data removed]",
      "text/plain": [
       "<Figure size 1200x400 with 2 Axes>"
      ]
     },
     "metadata": {},
     "output_type": "display_data"
    }
   ],
   "source": [
    "T = 2\n",
    "params = E0, V0, omega = 1, 1, 2*pi/T\n",
    "Wmax = Omega(T/4, *params)\n",
    "dt = min(T/1000, 2*np.pi/Wmax/4000)\n",
    "psi0 = np.array([0,1],dtype=complex)\n",
    "\n",
    "psi, t = PropagateState(psi0, T, *params, dt)\n",
    "print(psi.shape)\n",
    "f = np.abs(psi)**2\n",
    "residual = EvalResidual(t, psi, *params)\n",
    "fig,axs=plt.subplots(ncols=2,figsize=(12,4))\n",
    "axs[0].plot(t, f, linewidth=1)\n",
    "axs[1].plot(t, np.abs(residual), linewidth=1)\n"
   ]
  },
  {
   "cell_type": "code",
   "execution_count": 28,
   "id": "95527d59",
   "metadata": {},
   "outputs": [
    {
     "data": {
      "text/plain": [
       "(1000, 2)"
      ]
     },
     "execution_count": 28,
     "metadata": {},
     "output_type": "execute_result"
    }
   ],
   "source": [
    "psi.shape"
   ]
  },
  {
   "cell_type": "code",
   "execution_count": null,
   "id": "439c7543",
   "metadata": {},
   "outputs": [],
   "source": []
  }
 ],
 "metadata": {
  "kernelspec": {
   "display_name": "Python 3 (ipykernel)",
   "language": "python",
   "name": "python3"
  },
  "language_info": {
   "codemirror_mode": {
    "name": "ipython",
    "version": 3
   },
   "file_extension": ".py",
   "mimetype": "text/x-python",
   "name": "python",
   "nbconvert_exporter": "python",
   "pygments_lexer": "ipython3",
   "version": "3.11.4"
  }
 },
 "nbformat": 4,
 "nbformat_minor": 5
}
