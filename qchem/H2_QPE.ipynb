{
 "cells": [
  {
   "cell_type": "markdown",
   "id": "1b19774d",
   "metadata": {},
   "source": [
    "# Quantum Phase Estimation for Ground State Energy of H2\n"
   ]
  },
  {
   "cell_type": "code",
   "execution_count": 1,
   "id": "251a641b-2a69-4c03-9900-5e16e5ddd40a",
   "metadata": {},
   "outputs": [],
   "source": [
    "import numpy as np\n",
    "from scipy import linalg, sparse\n",
    "from itertools import product\n",
    "from pyscf import gto, scf, ao2mo\n",
    "import openfermionpyscf as ofpyscf\n",
    "from openfermion import utils, ops\n",
    "from openfermion.ops import FermionOperator\n",
    "import openfermion as opf\n",
    "from quantum.utils import plotting as PLT\n",
    "from quantum.qprimitives import mathutils\n",
    "from quantum import constants"
   ]
  },
  {
   "cell_type": "code",
   "execution_count": 5,
   "id": "ab8e083a-d3fd-4e55-b55f-8e0ceee0df5a",
   "metadata": {},
   "outputs": [],
   "source": [
    "# Set molecule parameters\n",
    "bond_length = 0.74\n",
    "geometry = [(\"H\", (0.0, 0.0, -bond_length/2)), (\"H\", (0.0, 0.0, bond_length/2))]\n",
    "hamiltonian = ofpyscf.generate_molecular_hamiltonian(geometry, 'sto-3g', multiplicity=1, charge=0)\n",
    "Hfermion = opf.get_fermion_operator(hamiltonian)"
   ]
  },
  {
   "cell_type": "code",
   "execution_count": 91,
   "id": "148c469c-8bf1-4325-8620-244ce4ead92c",
   "metadata": {},
   "outputs": [],
   "source": [
    "Hmatrix = opf.linalg.get_sparse_operator(Hfermion)\n",
    "E, _ = np.linalg.eigh(Hmatrix.toarray())"
   ]
  },
  {
   "cell_type": "code",
   "execution_count": 96,
   "id": "7c462787-6171-4427-ad5e-1e12b297e193",
   "metadata": {},
   "outputs": [
    {
     "name": "stdout",
     "output_type": "stream",
     "text": [
      "K =  6\n",
      "Exact Ground State Energy     =  -1.1372838344885017\n",
      "Estimated Ground State Energy =  -1.1780972450961724\n"
     ]
    },
    {
     "data": {
      "text/plain": [
       "[<matplotlib.lines.Line2D at 0x31cc1eba0>]"
      ]
     },
     "execution_count": 96,
     "metadata": {},
     "output_type": "execute_result"
    },
    {
     "data": {
      "image/png": "[encoded data removed]",
      "text/plain": [
       "<Figure size 400x300 with 1 Axes>"
      ]
     },
     "metadata": {},
     "output_type": "display_data"
    }
   ],
   "source": [
    "phi = -E[0]/np.pi\n",
    "\n",
    "\n",
    "PSI = np.zeros(16,dtype=complex)\n",
    "for m in range(16):\n",
    "    PSI[m] = np.exp(-1j*m*phi)\n",
    "#\n",
    "N = 16\n",
    "marray = np.arange(16)\n",
    "f = np.zeros(16,dtype=complex)\n",
    "for k in range(16):\n",
    "    f[k] = np.sum( np.exp(1j * 2 * np.pi * marray * (k - N*phi)/N ) ) / N\n",
    "#\n",
    "F = np.abs(f)**2\n",
    "#\n",
    "K = np.argmax(F)\n",
    "print('K = ',K)\n",
    "print('Exact Ground State Energy     = ', E[0])\n",
    "print('Estimated Ground State Energy = ', -K / N * np.pi)\n",
    "\n",
    "fig,ax = PLT.subplots(figsize=(4,3),ylabel='$|F_k|^2$',xlabel='k')\n",
    "ax.plot(F,marker='o')\n"
   ]
  },
  {
   "cell_type": "code",
   "execution_count": null,
   "id": "6bec381b-849f-46ab-aba0-beb3b50ba484",
   "metadata": {},
   "outputs": [],
   "source": []
  }
 ],
 "metadata": {
  "kernelspec": {
   "display_name": "Python 3 (ipykernel)",
   "language": "python",
   "name": "python3"
  },
  "language_info": {
   "codemirror_mode": {
    "name": "ipython",
    "version": 3
   },
   "file_extension": ".py",
   "mimetype": "text/x-python",
   "name": "python",
   "nbconvert_exporter": "python",
   "pygments_lexer": "ipython3",
   "version": "3.12.8"
  }
 },
 "nbformat": 4,
 "nbformat_minor": 5
}
