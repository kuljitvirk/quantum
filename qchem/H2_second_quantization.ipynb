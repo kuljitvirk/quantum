{
 "cells": [
  {
   "cell_type": "markdown",
   "id": "1b19774d",
   "metadata": {},
   "source": [
    "Use PySCF directly to manually generate the second quantized form of the H2 molecule. Then use OpenFermion package to do the same. The purpose is to understand how the calculation is performed in the OpenFermion Package."
   ]
  },
  {
   "cell_type": "code",
   "execution_count": 12,
   "id": "251a641b-2a69-4c03-9900-5e16e5ddd40a",
   "metadata": {},
   "outputs": [],
   "source": [
    "import numpy as np\n",
    "from scipy import linalg, sparse\n",
    "from itertools import product\n",
    "from pyscf import gto, scf, ao2mo\n",
    "import openfermionpyscf as ofpyscf\n",
    "from openfermion.ops import FermionOperator\n",
    "from openfermion import utils, ops\n",
    "import openfermion as opf\n",
    "\n",
    "import tqdm\n",
    "from quantum.utils import plotting as PLT\n",
    "from quantum.qprimitives import mathutils\n",
    "from quantum import constants"
   ]
  },
  {
   "cell_type": "markdown",
   "id": "6a88bce8",
   "metadata": {},
   "source": [
    "Build H2 molecule using the `gto` module. Solve it using the restricted Hartree Fock method."
   ]
  },
  {
   "cell_type": "code",
   "execution_count": 13,
   "id": "bae797ba",
   "metadata": {},
   "outputs": [
    {
     "name": "stdout",
     "output_type": "stream",
     "text": [
      "converged SCF energy = -1.11734903499028\n",
      "Coeffs:\n",
      " [[ 0.54455869  1.26206594]\n",
      " [ 0.54455869 -1.26206594]]\n"
     ]
    }
   ],
   "source": [
    "bond_length = 0.7 # Angstrom\n",
    "mol = gto.Mole()\n",
    "mol.build(atom=f'H 0 0 {-bond_length/2};H 0 0 {bond_length/2}',basis='sto-3g',unit='A')\n",
    "sol = scf.RHF(mol).run()\n",
    "print('Coeffs:\\n',sol.mo_coeff)\n",
    "Hcore = sol.get_hcore()\n",
    "J,K   = sol.get_jk()\n",
    "F     = sol.get_fock()\n",
    "S     = sol.get_ovlp()"
   ]
  },
  {
   "cell_type": "code",
   "execution_count": 14,
   "id": "34472e6f-6817-47aa-8b17-f03f8ad529f9",
   "metadata": {},
   "outputs": [
    {
     "name": "stdout",
     "output_type": "stream",
     "text": [
      "AO repulsion integrals:\n",
      " [[0.77460594 0.46762065 0.58512264]\n",
      " [0.46762065 0.324858   0.46762065]\n",
      " [0.58512264 0.46762065 0.77460594]]\n",
      "\n",
      "MO repulsion Integrals:\n",
      " [[6.82389533e-01 6.90428546e-17 6.70732778e-01]\n",
      " [1.50017487e-16 1.79000576e-01 3.45644368e-16]\n",
      " [6.70732778e-01 8.07231136e-17 7.05105632e-01]]\n",
      "Full AO:\n",
      " [[0.77460594 0.46762065 0.58512264]\n",
      " [0.46762065 0.324858   0.46762065]\n",
      " [0.58512264 0.46762065 0.77460594]]\n",
      "\n",
      "Full MO:\n",
      " [[6.82389533e-01 6.90428546e-17 6.70732778e-01]\n",
      " [1.50017487e-16 1.79000576e-01 3.45644368e-16]\n",
      " [6.70732778e-01 8.07231136e-17 7.05105632e-01]]\n",
      "\n",
      "Tensor Form:\n",
      " [[[[6.82389533e-01 1.50017487e-16]\n",
      "   [6.90428546e-17 1.79000576e-01]]\n",
      "\n",
      "  [[6.90428546e-17 1.79000576e-01]\n",
      "   [6.70732778e-01 3.45644368e-16]]]\n",
      "\n",
      "\n",
      " [[[1.50017487e-16 6.70732778e-01]\n",
      "   [1.79000576e-01 8.07231136e-17]]\n",
      "\n",
      "  [[1.79000576e-01 8.07231136e-17]\n",
      "   [3.45644368e-16 7.05105632e-01]]]]\n"
     ]
    }
   ],
   "source": [
    "eri=ao2mo.get_ao_eri(mol)\n",
    "print('AO repulsion integrals:\\n',eri)\n",
    "\n",
    "ori=ao2mo.get_mo_eri(eri,sol.mo_coeff)\n",
    "print('\\nMO repulsion Integrals:\\n',ori)\n",
    "\n",
    "eri_full = ao2mo.full(mol, np.eye(2))\n",
    "print('Full AO:\\n',eri_full)\n",
    "\n",
    "ori_full=ao2mo.full(mol, sol.mo_coeff)\n",
    "print('\\nFull MO:\\n',ori_full)\n",
    "\n",
    "Vtensor = ao2mo.restore(1, ao2mo.kernel(mol, sol.mo_coeff), sol.mo_coeff.shape[1])\n",
    "# <pq | V | rs > = (ps|qr) = pyscfERI[p,s,q,r]\n",
    "Vtensor = Vtensor.transpose((0,2,3,1))\n",
    "print('\\nTensor Form:\\n',Vtensor)"
   ]
  },
  {
   "cell_type": "code",
   "execution_count": 15,
   "id": "7d16c6b2",
   "metadata": {},
   "outputs": [],
   "source": [
    "S = sol.get_ovlp()\n",
    "D,U = np.linalg.eigh(S)\n",
    "Shalfinv = U @ np.sqrt(np.diag(1/D)) @ U.T"
   ]
  },
  {
   "cell_type": "code",
   "execution_count": 16,
   "id": "03043266-7b12-448b-befd-a13fe0cb687d",
   "metadata": {},
   "outputs": [
    {
     "name": "stdout",
     "output_type": "stream",
     "text": [
      "Ground State Energy:  [-1.13618945]\n"
     ]
    }
   ],
   "source": [
    "#X = Shalfinv \n",
    "X = sol.mo_coeff \n",
    "Hcore = X.T @ sol.get_hcore() @  X\n",
    "Vtensor = ao2mo.restore(1, ao2mo.kernel(mol, X), X.shape[1]).transpose((0,2,3,1))\n",
    "\n",
    "spatial_index = np.array([0,0,1,1])\n",
    "H0 = sol.energy_nuc()\n",
    "for i,j in product([0,1],[0,1]):\n",
    "   H0 += Hcore[i,j]*FermionOperator( [ (2*i,1), (2*j,0) ] )\n",
    "   H0 += Hcore[i,j]*FermionOperator( [ (2*i+1,1), (2*j+1,0) ] )\n",
    "#\n",
    "Vc = 0\n",
    "for p,q,r,s in product([0,1],[0,1],[0,1],[0,1]):\n",
    "    if np.abs(Vtensor[p,q,r,s])>1e-8:\n",
    "        Vc += (\n",
    "            Vtensor[p,q,r,s]/2*FermionOperator( ( (2*p, 1), (2*q, 1), (2*r, 0), (2*s, 0) ) ) + \n",
    "            Vtensor[p,q,r,s]/2*FermionOperator( ( (2*p, 1), (2*q+1, 1), (2*r+1, 0), (2*s, 0) ) ) + \n",
    "            Vtensor[p,q,r,s]/2*FermionOperator( ( (2*p+1, 1), (2*q, 1), (2*r, 0), (2*s+1, 0) ) ) + \n",
    "            Vtensor[p,q,r,s]/2*FermionOperator( ( (2*p+1, 1), (2*q+1, 1), (2*r+1, 0), (2*s+1, 0) ) ) \n",
    "        )\n",
    "\n",
    "HJW = opf.jordan_wigner(H0 + Vc)\n",
    "H = opf.linalg.get_sparse_operator(HJW)\n",
    "E, _ = sparse.linalg.eigsh(H, k=1, which='SA')\n",
    "print('Ground State Energy: ',E)\n"
   ]
  },
  {
   "cell_type": "code",
   "execution_count": 17,
   "id": "66ccd03d",
   "metadata": {},
   "outputs": [
    {
     "name": "stdout",
     "output_type": "stream",
     "text": [
      "Ground State Energy:  [-1.13618945]\n"
     ]
    }
   ],
   "source": [
    "HJW = opf.jordan_wigner(H0 + Vc)\n",
    "H = opf.linalg.get_sparse_operator(HJW)\n",
    "E, Ujw = sparse.linalg.eigsh(H, k=1, which='SA')\n",
    "print('Ground State Energy: ',E)\n",
    "#print('JW form\\n',HJW)"
   ]
  },
  {
   "cell_type": "markdown",
   "id": "7180baa1",
   "metadata": {},
   "source": [
    "The expectation value $ \\langle 1 1 0 0 | H | 1 1 0 0\\rangle $ must equal the HF total energy in the ground state, i.e. -1.117 hartree as found above. Let us check that."
   ]
  },
  {
   "cell_type": "code",
   "execution_count": 18,
   "id": "1121fcc0",
   "metadata": {},
   "outputs": [
    {
     "data": {
      "text/plain": [
       "(-1.1173490349902797+0j)"
      ]
     },
     "execution_count": 18,
     "metadata": {},
     "output_type": "execute_result"
    }
   ],
   "source": [
    "v = np.zeros(16)\n",
    "i = mathutils.to_decimal(np.array([1,1,0,0]))\n",
    "v[i]=1\n",
    "opf.linalg.expectation(H, v)"
   ]
  },
  {
   "cell_type": "code",
   "execution_count": 25,
   "id": "7a1fe9cb",
   "metadata": {},
   "outputs": [
    {
     "name": "stdout",
     "output_type": "stream",
     "text": [
      "Ground State Energy:  [-1.13618945]\n",
      "<1100|H|1100> (-0.29945247977832545+0j)\n",
      "JBK form\n",
      " (-0.042078976477822064+0j) [] +\n",
      "(0.04475014401535165+0j) [X0 Z1 X2] +\n",
      "(0.04475014401535165+0j) [X0 Z1 X2 Z3] +\n",
      "(0.04475014401535165+0j) [Y0 Z1 Y2] +\n",
      "(0.04475014401535165+0j) [Y0 Z1 Y2 Z3] +\n",
      "(0.17771287465139937+0j) [Z0] +\n",
      "(0.17771287465139937+0j) [Z0 Z1] +\n",
      "(0.16768319457718966+0j) [Z0 Z1 Z2] +\n",
      "(0.16768319457718966+0j) [Z0 Z1 Z2 Z3] +\n",
      "(0.12293305056183804+0j) [Z0 Z2] +\n",
      "(0.12293305056183804+0j) [Z0 Z2 Z3] +\n",
      "(0.17059738328801052+0j) [Z1] +\n",
      "(-0.242742805131405+0j) [Z1 Z2 Z3] +\n",
      "(0.17627640804319608+0j) [Z1 Z3] +\n",
      "(-0.242742805131405+0j) [Z2]\n"
     ]
    }
   ],
   "source": [
    "HBK = opf.bravyi_kitaev(H0 + Vc)\n",
    "H = opf.linalg.get_sparse_operator(HBK)\n",
    "E,_ = sparse.linalg.eigsh(H, k=1, which='SA')\n",
    "print('Ground State Energy: ',E)\n",
    "\n",
    "v = np.zeros(16)\n",
    "i = mathutils.to_decimal(np.array([1,1,0,0]))\n",
    "v[i]=1\n",
    "print('<1100|H|1100>',opf.linalg.expectation(H, v))\n",
    "\n",
    "print('JBK form\\n',HBK)\n"
   ]
  },
  {
   "cell_type": "markdown",
   "id": "d850e181-69cb-4feb-827e-1fe12eec8744",
   "metadata": {},
   "source": [
    "## Directly using OpenFermion"
   ]
  },
  {
   "cell_type": "code",
   "execution_count": 20,
   "id": "ab8e083a-d3fd-4e55-b55f-8e0ceee0df5a",
   "metadata": {},
   "outputs": [],
   "source": [
    "# Set molecule parameters\n",
    "geometry = [(\"H\", (0.0, 0.0, -bond_length/2)), (\"H\", (0.0, 0.0, bond_length/2))]\n",
    "hamiltonian = ofpyscf.generate_molecular_hamiltonian(geometry, 'sto-3g', multiplicity=1, charge=0)\n",
    "hamiltonian_ferm_op = opf.get_fermion_operator(hamiltonian)"
   ]
  },
  {
   "cell_type": "code",
   "execution_count": 21,
   "id": "3bb4eece-4c49-4988-920f-c69745027c6d",
   "metadata": {},
   "outputs": [
    {
     "name": "stdout",
     "output_type": "stream",
     "text": [
      "Ground_energy: -1.1361894540659243\n",
      "JWT transformed Hamiltonian:\n",
      "(-0.042078976477822036+0j) [] +\n",
      "(-0.04475014401535165+0j) [X0 X1 Y2 Y3] +\n",
      "(0.04475014401535165+0j) [X0 Y1 Y2 X3] +\n",
      "(0.04475014401535165+0j) [Y0 X1 X2 Y3] +\n",
      "(-0.04475014401535165+0j) [Y0 Y1 X2 X3] +\n",
      "(0.17771287465139934+0j) [Z0] +\n",
      "(0.17059738328801052+0j) [Z0 Z1] +\n",
      "(0.12293305056183804+0j) [Z0 Z2] +\n",
      "(0.16768319457718966+0j) [Z0 Z3] +\n",
      "(0.17771287465139937+0j) [Z1] +\n",
      "(0.16768319457718966+0j) [Z1 Z2] +\n",
      "(0.12293305056183804+0j) [Z1 Z3] +\n",
      "(-0.242742805131405+0j) [Z2] +\n",
      "(0.17627640804319608+0j) [Z2 Z3] +\n",
      "(-0.242742805131405+0j) [Z3]\n"
     ]
    }
   ],
   "source": [
    "hamiltonian_jw = opf.jordan_wigner(hamiltonian_ferm_op)\n",
    "hamiltonian_jw_sparse = opf.get_sparse_operator(hamiltonian_jw)\n",
    "eigs, _ = sparse.linalg.eigsh(hamiltonian_jw_sparse, k=1, which=\"SA\")\n",
    "ground_energy = eigs[0]\n",
    "print(\"Ground_energy: {}\".format(ground_energy))\n",
    "print(\"JWT transformed Hamiltonian:\")\n",
    "print(hamiltonian_jw)"
   ]
  },
  {
   "cell_type": "code",
   "execution_count": 22,
   "id": "2ca0eb1c-8a54-4f23-be11-33f26ba343d4",
   "metadata": {},
   "outputs": [
    {
     "name": "stdout",
     "output_type": "stream",
     "text": [
      "Ground_energy: -1.1361894540659234\n",
      "JWT transformed Hamiltonian:\n",
      "(-0.042078976477822036+0j) [] +\n",
      "(0.04475014401535165+0j) [X0 Z1 X2] +\n",
      "(0.04475014401535165+0j) [X0 Z1 X2 Z3] +\n",
      "(0.04475014401535165+0j) [Y0 Z1 Y2] +\n",
      "(0.04475014401535165+0j) [Y0 Z1 Y2 Z3] +\n",
      "(0.17771287465139934+0j) [Z0] +\n",
      "(0.17771287465139937+0j) [Z0 Z1] +\n",
      "(0.16768319457718966+0j) [Z0 Z1 Z2] +\n",
      "(0.16768319457718966+0j) [Z0 Z1 Z2 Z3] +\n",
      "(0.12293305056183804+0j) [Z0 Z2] +\n",
      "(0.12293305056183804+0j) [Z0 Z2 Z3] +\n",
      "(0.17059738328801052+0j) [Z1] +\n",
      "(-0.242742805131405+0j) [Z1 Z2 Z3] +\n",
      "(0.17627640804319608+0j) [Z1 Z3] +\n",
      "(-0.242742805131405+0j) [Z2]\n"
     ]
    }
   ],
   "source": [
    "hamiltonian_bk = opf.bravyi_kitaev(hamiltonian_ferm_op)\n",
    "hamiltonian_bk_sparse = opf.get_sparse_operator(hamiltonian_bk)\n",
    "eigs, _ = sparse.linalg.eigsh(hamiltonian_bk_sparse, k=1, which=\"SA\")\n",
    "ground_energy = eigs[0]\n",
    "print(\"Ground_energy: {}\".format(ground_energy))\n",
    "print(\"JWT transformed Hamiltonian:\")\n",
    "print(hamiltonian_bk)"
   ]
  },
  {
   "cell_type": "code",
   "execution_count": null,
   "id": "411241cb-11e9-4479-8f74-004e941f5245",
   "metadata": {},
   "outputs": [],
   "source": []
  }
 ],
 "metadata": {
  "kernelspec": {
   "display_name": "qc",
   "language": "python",
   "name": "python3"
  },
  "language_info": {
   "codemirror_mode": {
    "name": "ipython",
    "version": 3
   },
   "file_extension": ".py",
   "mimetype": "text/x-python",
   "name": "python",
   "nbconvert_exporter": "python",
   "pygments_lexer": "ipython3",
   "version": "3.12.8"
  }
 },
 "nbformat": 4,
 "nbformat_minor": 5
}
