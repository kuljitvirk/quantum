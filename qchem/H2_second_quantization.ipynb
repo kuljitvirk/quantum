{
 "cells": [
  {
   "cell_type": "markdown",
   "id": "1b19774d",
   "metadata": {},
   "source": [
    "Use PySCF directly to manually generate the second quantized form of the H2 molecule. Then use OpenFermion package to do the same. The purpose is to understand how the calculation is performed in the OpenFermion Package."
   ]
  },
  {
   "cell_type": "code",
   "execution_count": 2,
   "id": "251a641b-2a69-4c03-9900-5e16e5ddd40a",
   "metadata": {},
   "outputs": [],
   "source": [
    "import numpy as np\n",
    "from scipy import linalg, sparse\n",
    "from itertools import product\n",
    "from pyscf import gto, scf, ao2mo\n",
    "import openfermionpyscf as ofpyscf\n",
    "from openfermion.ops import FermionOperator\n",
    "from openfermion import utils, ops\n",
    "import openfermion as opf\n",
    "\n",
    "import tqdm\n",
    "from quantum.utils import plotting as PLT\n",
    "from quantum import constants"
   ]
  },
  {
   "cell_type": "markdown",
   "id": "6a88bce8",
   "metadata": {},
   "source": [
    "Build H2 molecule using the `gto` module. Solve it using the restricted Hartree Fock method."
   ]
  },
  {
   "cell_type": "code",
   "execution_count": 3,
   "id": "bae797ba",
   "metadata": {},
   "outputs": [
    {
     "name": "stdout",
     "output_type": "stream",
     "text": [
      "converged SCF energy = -1.11734903499028\n",
      "Coeffs:\n",
      " [[ 0.54455869  1.26206594]\n",
      " [ 0.54455869 -1.26206594]]\n"
     ]
    }
   ],
   "source": [
    "bond_length = 0.7 # Angstrom\n",
    "mol = gto.Mole()\n",
    "mol.build(atom=f'H 0 0 {-bond_length/2};H 0 0 {bond_length/2}',basis='sto-3g',unit='A')\n",
    "sol = scf.RHF(mol).run()\n",
    "print('Coeffs:\\n',sol.mo_coeff)\n",
    "Hcore = sol.get_hcore()\n",
    "J,K   = sol.get_jk()\n",
    "F     = sol.get_fock()\n",
    "S     = sol.get_ovlp()"
   ]
  },
  {
   "cell_type": "code",
   "execution_count": 4,
   "id": "34472e6f-6817-47aa-8b17-f03f8ad529f9",
   "metadata": {},
   "outputs": [
    {
     "name": "stdout",
     "output_type": "stream",
     "text": [
      "AO repulsion integrals:\n",
      " [[0.77460594 0.46762065 0.58512264]\n",
      " [0.46762065 0.324858   0.46762065]\n",
      " [0.58512264 0.46762065 0.77460594]]\n",
      "\n",
      "MO repulsion Integrals:\n",
      " [[6.82389533e-01 6.90428546e-17 6.70732778e-01]\n",
      " [1.50017487e-16 1.79000576e-01 3.45644368e-16]\n",
      " [6.70732778e-01 8.07231136e-17 7.05105632e-01]]\n",
      "Full:\n",
      " [[0.77460594 0.46762065 0.58512264]\n",
      " [0.46762065 0.324858   0.46762065]\n",
      " [0.58512264 0.46762065 0.77460594]]\n",
      "\n",
      "Full MO:\n",
      " [[6.82389533e-01 6.90428546e-17 6.70732778e-01]\n",
      " [1.50017487e-16 1.79000576e-01 3.45644368e-16]\n",
      " [6.70732778e-01 8.07231136e-17 7.05105632e-01]]\n",
      "\n",
      "Tensor Form:\n",
      " [[[[6.82389533e-01 1.50017487e-16]\n",
      "   [6.90428546e-17 1.79000576e-01]]\n",
      "\n",
      "  [[6.90428546e-17 1.79000576e-01]\n",
      "   [6.70732778e-01 3.45644368e-16]]]\n",
      "\n",
      "\n",
      " [[[1.50017487e-16 6.70732778e-01]\n",
      "   [1.79000576e-01 8.07231136e-17]]\n",
      "\n",
      "  [[1.79000576e-01 8.07231136e-17]\n",
      "   [3.45644368e-16 7.05105632e-01]]]]\n"
     ]
    }
   ],
   "source": [
    "eri=ao2mo.get_ao_eri(mol)\n",
    "print('AO repulsion integrals:\\n',eri)\n",
    "\n",
    "ori=ao2mo.get_mo_eri(eri,sol.mo_coeff)\n",
    "print('\\nMO repulsion Integrals:\\n',ori)\n",
    "\n",
    "eri_full = ao2mo.full(mol, np.eye(2))\n",
    "print('Full:\\n',eri_full)\n",
    "\n",
    "ori_full=ao2mo.full(mol, sol.mo_coeff)\n",
    "print('\\nFull MO:\\n',ori_full)\n",
    "\n",
    "Vtensor = ao2mo.restore(1, ao2mo.kernel(mol, sol.mo_coeff), sol.mo_coeff.shape[1])\n",
    "# <pq | V | rs > = (ps|qr) = pyscfERI[p,s,q,r]\n",
    "Vtensor = Vtensor.transpose((0,2,3,1))\n",
    "print('\\nTensor Form:\\n',Vtensor)"
   ]
  },
  {
   "cell_type": "code",
   "execution_count": 5,
   "id": "03043266-7b12-448b-befd-a13fe0cb687d",
   "metadata": {},
   "outputs": [
    {
     "name": "stdout",
     "output_type": "stream",
     "text": [
      "Ground State Energy:  [-1.13618945]\n"
     ]
    }
   ],
   "source": [
    "X = sol.mo_coeff \n",
    "Hcore = X.T @ sol.get_hcore() @  X\n",
    "Vtensor = ao2mo.restore(1, ao2mo.kernel(mol, X), X.shape[1]).transpose((0,2,3,1))\n",
    "\n",
    "spatial_index = np.array([0,0,1,1])\n",
    "H0 = sol.energy_nuc()\n",
    "for i,j in product([0,1],[0,1]):\n",
    "   H0 += Hcore[i,j]*FermionOperator( [ (2*i,1), (2*j,0) ] )\n",
    "   H0 += Hcore[i,j]*FermionOperator( [ (2*i+1,1), (2*j+1,0) ] )\n",
    "#\n",
    "Vc = 0\n",
    "for p,q,r,s in product([0,1],[0,1],[0,1],[0,1]):\n",
    "    if np.abs(Vtensor[p,q,r,s])>1e-8:\n",
    "        Vc += (\n",
    "            Vtensor[p,q,r,s]/2*FermionOperator( ( (2*p, 1), (2*q, 1), (2*r, 0), (2*s, 0) ) ) + \n",
    "            Vtensor[p,q,r,s]/2*FermionOperator( ( (2*p, 1), (2*q+1, 1), (2*r+1, 0), (2*s, 0) ) ) + \n",
    "            Vtensor[p,q,r,s]/2*FermionOperator( ( (2*p+1, 1), (2*q, 1), (2*r, 0), (2*s+1, 0) ) ) + \n",
    "            Vtensor[p,q,r,s]/2*FermionOperator( ( (2*p+1, 1), (2*q+1, 1), (2*r+1, 0), (2*s+1, 0) ) ) \n",
    "        )\n",
    "\n",
    "HJW = opf.jordan_wigner(H0 + Vc)\n",
    "H = opf.linalg.get_sparse_operator(HJW)\n",
    "E, _ = sparse.linalg.eigsh(H, k=1, which='SA')\n",
    "print('Ground State Energy: ',E)\n"
   ]
  },
  {
   "cell_type": "code",
   "execution_count": 6,
   "id": "66ccd03d",
   "metadata": {},
   "outputs": [
    {
     "name": "stdout",
     "output_type": "stream",
     "text": [
      "Ground State Energy:  [-1.13618945]\n"
     ]
    }
   ],
   "source": [
    "HJW = opf.jordan_wigner(H0 + Vc)\n",
    "H = opf.linalg.get_sparse_operator(HJW)\n",
    "E, _ = sparse.linalg.eigsh(H, k=1, which='SA')\n",
    "print('Ground State Energy: ',E)\n",
    "#print('JW form\\n',HJW)"
   ]
  },
  {
   "cell_type": "code",
   "execution_count": 7,
   "id": "7a1fe9cb",
   "metadata": {},
   "outputs": [
    {
     "name": "stdout",
     "output_type": "stream",
     "text": [
      "Ground State Energy:  [-1.13618945]\n",
      "JBK form\n",
      " (-0.042078976477822064+0j) [] +\n",
      "(0.04475014401535165+0j) [X0 Z1 X2] +\n",
      "(0.04475014401535165+0j) [X0 Z1 X2 Z3] +\n",
      "(0.04475014401535165+0j) [Y0 Z1 Y2] +\n",
      "(0.04475014401535165+0j) [Y0 Z1 Y2 Z3] +\n",
      "(0.17771287465139937+0j) [Z0] +\n",
      "(0.17771287465139937+0j) [Z0 Z1] +\n",
      "(0.16768319457718966+0j) [Z0 Z1 Z2] +\n",
      "(0.16768319457718966+0j) [Z0 Z1 Z2 Z3] +\n",
      "(0.12293305056183804+0j) [Z0 Z2] +\n",
      "(0.12293305056183804+0j) [Z0 Z2 Z3] +\n",
      "(0.17059738328801052+0j) [Z1] +\n",
      "(-0.242742805131405+0j) [Z1 Z2 Z3] +\n",
      "(0.17627640804319608+0j) [Z1 Z3] +\n",
      "(-0.242742805131405+0j) [Z2]\n"
     ]
    }
   ],
   "source": [
    "HBK = opf.bravyi_kitaev(H0 + Vc)\n",
    "H = opf.linalg.get_sparse_operator(HBK)\n",
    "E,_ = sparse.linalg.eigsh(H, k=1, which='SA')\n",
    "print('Ground State Energy: ',E)\n",
    "print('JBK form\\n',HBK)"
   ]
  },
  {
   "cell_type": "code",
   "execution_count": 8,
   "id": "379b2afc",
   "metadata": {},
   "outputs": [
    {
     "name": "stdout",
     "output_type": "stream",
     "text": [
      "Hartree-Fock energy for H2_6-31g_singlet (2 electrons) is -1.1261231613839136.\n"
     ]
    }
   ],
   "source": [
    "geometry = [(\"H\", (0.0, 0.0, -bond_length/2)), (\"H\", (0.0, 0.0, bond_length/2))]\n",
    "molecule = opf.MolecularData(geometry,'6-31g',multiplicity=1,charge=0)\n",
    "molecule = ofpyscf.run_pyscf(molecule, run_scf=False, run_cisd=False,run_ccsd=False, run_fci=False, verbose=True)\n",
    "#generate_molecular_hamiltonian(geometry, 'sto-3g', multiplicity=1, charge=0)\n"
   ]
  },
  {
   "cell_type": "code",
   "execution_count": 9,
   "id": "5f4f2c8e",
   "metadata": {},
   "outputs": [
    {
     "data": {
      "text/plain": [
       "array([[[[ 6.65568000e-01,  9.74508280e-19,  1.72481025e-01,\n",
       "          -1.20943990e-16],\n",
       "         [-4.30934749e-17,  7.56290624e-02,  4.08414278e-17,\n",
       "           7.83652787e-02],\n",
       "         [ 1.72481025e-01,  5.43855950e-17,  1.11349802e-01,\n",
       "           8.85255004e-18],\n",
       "         [-1.07530531e-16,  7.83652787e-02,  2.58942317e-17,\n",
       "           1.41915120e-01]],\n",
       "\n",
       "        [[-4.30934749e-17,  7.56290624e-02,  4.08414278e-17,\n",
       "           7.83652787e-02],\n",
       "         [ 4.32259761e-01, -1.31221886e-16,  4.70975257e-02,\n",
       "           6.51471068e-17],\n",
       "         [-1.60777378e-17, -2.26170547e-02,  1.70503680e-17,\n",
       "           1.72288023e-02],\n",
       "         [ 1.43379632e-01,  1.03723184e-16,  7.12140873e-02,\n",
       "          -1.94414433e-16]],\n",
       "\n",
       "        [[ 1.72481025e-01,  5.43855950e-17,  1.11349802e-01,\n",
       "           8.85255004e-18],\n",
       "         [-1.60777378e-17, -2.26170547e-02,  1.70503680e-17,\n",
       "           1.72288023e-02],\n",
       "         [ 5.36196381e-01,  9.91638586e-17,  1.19500364e-01,\n",
       "           8.31909890e-17],\n",
       "         [-6.55602589e-17,  7.73486394e-02,  8.28101922e-17,\n",
       "           1.21478240e-01]],\n",
       "\n",
       "        [[-1.07530531e-16,  7.83652787e-02,  2.58942317e-17,\n",
       "           1.41915120e-01],\n",
       "         [ 1.43379632e-01,  1.03723184e-16,  7.12140873e-02,\n",
       "          -1.94414433e-16],\n",
       "         [-6.55602589e-17,  7.73486394e-02,  8.28101922e-17,\n",
       "           1.21478240e-01],\n",
       "         [ 6.79955715e-01,  9.74034722e-17,  2.06056685e-01,\n",
       "          -6.15831337e-17]]],\n",
       "\n",
       "\n",
       "       [[[ 9.74508280e-19,  4.32259761e-01,  6.54839373e-17,\n",
       "           1.43379632e-01],\n",
       "         [ 7.56290624e-02,  1.24747534e-16, -2.26170547e-02,\n",
       "          -1.05633039e-16],\n",
       "         [ 5.43855950e-17,  4.70975257e-02,  6.05972082e-17,\n",
       "           7.12140873e-02],\n",
       "         [ 7.83652787e-02,  5.82017173e-17,  1.72288023e-02,\n",
       "          -1.65931702e-17]],\n",
       "\n",
       "        [[ 7.56290624e-02,  1.24747534e-16, -2.26170547e-02,\n",
       "          -1.05633039e-16],\n",
       "         [-1.31221886e-16,  3.83766794e-01,  9.21477068e-17,\n",
       "           5.21129546e-02],\n",
       "         [-2.26170547e-02,  2.79037703e-16,  3.71391311e-02,\n",
       "           2.79803688e-17],\n",
       "         [ 1.03723184e-16,  5.21129546e-02,  3.27306516e-17,\n",
       "           6.46725820e-02]],\n",
       "\n",
       "        [[ 5.43855950e-17,  4.70975257e-02,  6.05972082e-17,\n",
       "           7.12140873e-02],\n",
       "         [-2.26170547e-02,  2.79037703e-16,  3.71391311e-02,\n",
       "           2.79803688e-17],\n",
       "         [ 9.91638586e-17,  3.78647421e-01,  1.27119155e-16,\n",
       "           9.48322548e-02],\n",
       "         [ 7.73486394e-02,  1.21422737e-16, -1.23295967e-03,\n",
       "           7.25635486e-17]],\n",
       "\n",
       "        [[ 7.83652787e-02,  5.82017173e-17,  1.72288023e-02,\n",
       "          -1.65931702e-17],\n",
       "         [ 1.03723184e-16,  5.21129546e-02,  3.27306516e-17,\n",
       "           6.46725820e-02],\n",
       "         [ 7.73486394e-02,  1.21422737e-16, -1.23295967e-03,\n",
       "           7.25635486e-17],\n",
       "         [ 9.74034722e-17,  4.40915143e-01,  8.82696676e-17,\n",
       "           1.67192136e-01]]],\n",
       "\n",
       "\n",
       "       [[[ 1.72481025e-01,  6.54839373e-17,  5.36196381e-01,\n",
       "          -1.44359395e-16],\n",
       "         [ 4.08414278e-17, -2.26170547e-02,  3.59992246e-17,\n",
       "           7.73486394e-02],\n",
       "         [ 1.11349802e-01,  6.05972082e-17,  1.19500364e-01,\n",
       "           1.14614959e-16],\n",
       "         [ 2.58942317e-17,  1.72288023e-02,  1.63158433e-16,\n",
       "           1.21478240e-01]],\n",
       "\n",
       "        [[ 4.08414278e-17, -2.26170547e-02,  3.59992246e-17,\n",
       "           7.73486394e-02],\n",
       "         [ 4.70975257e-02,  9.21477068e-17,  3.78647421e-01,\n",
       "          -2.35179264e-16],\n",
       "         [ 1.70503680e-17,  3.71391311e-02, -1.18947550e-16,\n",
       "          -1.23295967e-03],\n",
       "         [ 7.12140873e-02,  3.27306516e-17,  9.48322548e-02,\n",
       "          -3.81907194e-16]],\n",
       "\n",
       "        [[ 1.11349802e-01,  6.05972082e-17,  1.19500364e-01,\n",
       "           1.14614959e-16],\n",
       "         [ 1.70503680e-17,  3.71391311e-02, -1.18947550e-16,\n",
       "          -1.23295967e-03],\n",
       "         [ 1.19500364e-01,  1.27119155e-16,  4.62191030e-01,\n",
       "          -4.10109185e-17],\n",
       "         [ 8.28101922e-17, -1.23295967e-03,  1.40742913e-16,\n",
       "           1.20015701e-01]],\n",
       "\n",
       "        [[ 2.58942317e-17,  1.72288023e-02,  1.63158433e-16,\n",
       "           1.21478240e-01],\n",
       "         [ 7.12140873e-02,  3.27306516e-17,  9.48322548e-02,\n",
       "          -3.81907194e-16],\n",
       "         [ 8.28101922e-17, -1.23295967e-03,  1.40742913e-16,\n",
       "           1.20015701e-01],\n",
       "         [ 2.06056685e-01,  8.82696676e-17,  5.55081207e-01,\n",
       "           4.56860977e-16]]],\n",
       "\n",
       "\n",
       "       [[[-1.20943990e-16,  1.43379632e-01, -1.44359395e-16,\n",
       "           6.79955715e-01],\n",
       "         [ 7.83652787e-02, -1.05633039e-16,  7.73486394e-02,\n",
       "          -5.28877691e-17],\n",
       "         [ 8.85255004e-18,  7.12140873e-02,  1.14614959e-16,\n",
       "           2.06056685e-01],\n",
       "         [ 1.41915120e-01, -1.65931702e-17,  1.21478240e-01,\n",
       "          -3.06695327e-16]],\n",
       "\n",
       "        [[ 7.83652787e-02, -1.05633039e-16,  7.73486394e-02,\n",
       "          -5.28877691e-17],\n",
       "         [ 6.51471068e-17,  5.21129546e-02, -2.35179264e-16,\n",
       "           4.40915143e-01],\n",
       "         [ 1.72288023e-02,  2.79803688e-17, -1.23295967e-03,\n",
       "          -3.02970088e-16],\n",
       "         [-1.94414433e-16,  6.46725820e-02, -3.81907194e-16,\n",
       "           1.67192136e-01]],\n",
       "\n",
       "        [[ 8.85255004e-18,  7.12140873e-02,  1.14614959e-16,\n",
       "           2.06056685e-01],\n",
       "         [ 1.72288023e-02,  2.79803688e-17, -1.23295967e-03,\n",
       "          -3.02970088e-16],\n",
       "         [ 8.31909890e-17,  9.48322548e-02, -4.10109185e-17,\n",
       "           5.55081207e-01],\n",
       "         [ 1.21478240e-01,  7.25635486e-17,  1.20015701e-01,\n",
       "           5.76550888e-17]],\n",
       "\n",
       "        [[ 1.41915120e-01, -1.65931702e-17,  1.21478240e-01,\n",
       "          -3.06695327e-16],\n",
       "         [-1.94414433e-16,  6.46725820e-02, -3.81907194e-16,\n",
       "           1.67192136e-01],\n",
       "         [ 1.21478240e-01,  7.25635486e-17,  1.20015701e-01,\n",
       "           5.76550888e-17],\n",
       "         [-6.15831337e-17,  1.67192136e-01,  4.56860977e-16,\n",
       "           7.59317699e-01]]]])"
      ]
     },
     "execution_count": 9,
     "metadata": {},
     "output_type": "execute_result"
    }
   ],
   "source": [
    "molecule.two_body_integrals"
   ]
  },
  {
   "cell_type": "markdown",
   "id": "d850e181-69cb-4feb-827e-1fe12eec8744",
   "metadata": {},
   "source": [
    "## Directly using OpenFermion"
   ]
  },
  {
   "cell_type": "code",
   "execution_count": 10,
   "id": "ab8e083a-d3fd-4e55-b55f-8e0ceee0df5a",
   "metadata": {},
   "outputs": [],
   "source": [
    "# Set molecule parameters\n",
    "geometry = [(\"H\", (0.0, 0.0, -bond_length/2)), (\"H\", (0.0, 0.0, bond_length/2))]\n",
    "hamiltonian = ofpyscf.generate_molecular_hamiltonian(geometry, 'sto-3g', multiplicity=1, charge=0)\n",
    "hamiltonian_ferm_op = opf.get_fermion_operator(hamiltonian)"
   ]
  },
  {
   "cell_type": "code",
   "execution_count": 11,
   "id": "3bb4eece-4c49-4988-920f-c69745027c6d",
   "metadata": {},
   "outputs": [
    {
     "name": "stdout",
     "output_type": "stream",
     "text": [
      "Ground_energy: -1.13618945406592\n",
      "JWT transformed Hamiltonian:\n",
      "(-0.042078976477822036+0j) [] +\n",
      "(-0.04475014401535165+0j) [X0 X1 Y2 Y3] +\n",
      "(0.04475014401535165+0j) [X0 Y1 Y2 X3] +\n",
      "(0.04475014401535165+0j) [Y0 X1 X2 Y3] +\n",
      "(-0.04475014401535165+0j) [Y0 Y1 X2 X3] +\n",
      "(0.17771287465139934+0j) [Z0] +\n",
      "(0.17059738328801052+0j) [Z0 Z1] +\n",
      "(0.12293305056183804+0j) [Z0 Z2] +\n",
      "(0.16768319457718966+0j) [Z0 Z3] +\n",
      "(0.17771287465139937+0j) [Z1] +\n",
      "(0.16768319457718966+0j) [Z1 Z2] +\n",
      "(0.12293305056183804+0j) [Z1 Z3] +\n",
      "(-0.242742805131405+0j) [Z2] +\n",
      "(0.17627640804319608+0j) [Z2 Z3] +\n",
      "(-0.242742805131405+0j) [Z3]\n"
     ]
    }
   ],
   "source": [
    "hamiltonian_jw = opf.jordan_wigner(hamiltonian_ferm_op)\n",
    "hamiltonian_jw_sparse = opf.get_sparse_operator(hamiltonian_jw)\n",
    "eigs, _ = sparse.linalg.eigsh(hamiltonian_jw_sparse, k=1, which=\"SA\")\n",
    "ground_energy = eigs[0]\n",
    "print(\"Ground_energy: {}\".format(ground_energy))\n",
    "print(\"JWT transformed Hamiltonian:\")\n",
    "print(hamiltonian_jw)"
   ]
  },
  {
   "cell_type": "code",
   "execution_count": 12,
   "id": "2ca0eb1c-8a54-4f23-be11-33f26ba343d4",
   "metadata": {},
   "outputs": [
    {
     "name": "stdout",
     "output_type": "stream",
     "text": [
      "Ground_energy: -1.1361894540659245\n",
      "JWT transformed Hamiltonian:\n",
      "(-0.042078976477822036+0j) [] +\n",
      "(0.04475014401535165+0j) [X0 Z1 X2] +\n",
      "(0.04475014401535165+0j) [X0 Z1 X2 Z3] +\n",
      "(0.04475014401535165+0j) [Y0 Z1 Y2] +\n",
      "(0.04475014401535165+0j) [Y0 Z1 Y2 Z3] +\n",
      "(0.17771287465139934+0j) [Z0] +\n",
      "(0.17771287465139937+0j) [Z0 Z1] +\n",
      "(0.16768319457718966+0j) [Z0 Z1 Z2] +\n",
      "(0.16768319457718966+0j) [Z0 Z1 Z2 Z3] +\n",
      "(0.12293305056183804+0j) [Z0 Z2] +\n",
      "(0.12293305056183804+0j) [Z0 Z2 Z3] +\n",
      "(0.17059738328801052+0j) [Z1] +\n",
      "(-0.242742805131405+0j) [Z1 Z2 Z3] +\n",
      "(0.17627640804319608+0j) [Z1 Z3] +\n",
      "(-0.242742805131405+0j) [Z2]\n"
     ]
    }
   ],
   "source": [
    "hamiltonian_bk = opf.bravyi_kitaev(hamiltonian_ferm_op)\n",
    "hamiltonian_bk_sparse = opf.get_sparse_operator(hamiltonian_bk)\n",
    "eigs, _ = sparse.linalg.eigsh(hamiltonian_bk_sparse, k=1, which=\"SA\")\n",
    "ground_energy = eigs[0]\n",
    "print(\"Ground_energy: {}\".format(ground_energy))\n",
    "print(\"JWT transformed Hamiltonian:\")\n",
    "print(hamiltonian_bk)"
   ]
  },
  {
   "cell_type": "code",
   "execution_count": null,
   "id": "411241cb-11e9-4479-8f74-004e941f5245",
   "metadata": {},
   "outputs": [],
   "source": []
  }
 ],
 "metadata": {
  "kernelspec": {
   "display_name": "qc",
   "language": "python",
   "name": "python3"
  },
  "language_info": {
   "codemirror_mode": {
    "name": "ipython",
    "version": 3
   },
   "file_extension": ".py",
   "mimetype": "text/x-python",
   "name": "python",
   "nbconvert_exporter": "python",
   "pygments_lexer": "ipython3",
   "version": "3.12.8"
  }
 },
 "nbformat": 4,
 "nbformat_minor": 5
}
