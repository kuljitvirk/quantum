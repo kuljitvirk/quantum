{
 "cells": [
  {
   "cell_type": "markdown",
   "id": "1b19774d",
   "metadata": {},
   "source": [
    "# Constructing Hamiltonians using PySCF and OpenFermion\n",
    "\n",
    "Here I use the PySCF results for $H_2$ molecule to construct the Hamiltonian in the second quantized form,\n",
    "\n",
    "$$\n",
    "H = \\sum_{ij} h_{ij}a_i^\\dagger a_j + \\frac{1}{2}\\sum_{pqrs} V_{pq,rs} a_p^\\dagger a_q^\\dagger a_r a_s.\n",
    "$$\n",
    "\n",
    "Here the indices on the Fermionic operators label orthonormal basis functions. These functions may be molecular orbitals, which is the common case, or they may be orthonormalized atomic basis functions. In either case, we use the core Hamiltonian and the 2-body integrals in the molecular orbitals computed by PySCF to supply the matrix elements in the above equation.\n",
    "\n",
    "Note that the above labels are for the full (spin) orbital. In the case of $H_2$ molecule in the restricted Hartree-Fock calculation, there is no spin-dependence in the Hamiltonian. Therefore, we construct all the spin-conserving terms using the same coefficient for the identical combinations of spatial orbitals.\n"
   ]
  },
  {
   "cell_type": "code",
   "execution_count": 1,
   "id": "251a641b-2a69-4c03-9900-5e16e5ddd40a",
   "metadata": {},
   "outputs": [],
   "source": [
    "import numpy as np\n",
    "from scipy import linalg, sparse\n",
    "from itertools import product\n",
    "from pyscf import gto, scf, ao2mo\n",
    "import openfermionpyscf as ofpyscf\n",
    "from openfermion import utils, ops\n",
    "from openfermion.ops import FermionOperator\n",
    "import openfermion as opf\n",
    "from quantum.utils import plotting as PLT\n",
    "from quantum.qprimitives import mathutils\n",
    "from quantum import constants"
   ]
  },
  {
   "cell_type": "code",
   "execution_count": 2,
   "id": "03043266-7b12-448b-befd-a13fe0cb687d",
   "metadata": {},
   "outputs": [],
   "source": [
    "def fermionic_hamiltonian(sol,X=None):\n",
    "    \"\"\"\n",
    "    Creates the FermionOperator type Hamiltonian from the one-body and two-body integrals in PySCF.\n",
    "    Includes the nuclear repulsion energy as a constant. \n",
    "    \n",
    "    Args:\n",
    "        sol (pyscf.scf) : self-consistent solution object\n",
    "        X (np.ndarray)  : basis vectors arranged in columns\n",
    "    Returns:\n",
    "        H (FermionOperator) : Full Fermionic Hamiltonian \n",
    "    \"\"\"\n",
    "    if X is None:\n",
    "        x = sol.mo_coeff\n",
    "    Hcore = X.T @ sol.get_hcore() @  X\n",
    "    Vtensor = ao2mo.restore(1, ao2mo.kernel(mol, X), X.shape[1]).transpose((0,2,3,1))\n",
    "    \n",
    "    H0 = sol.energy_nuc()\n",
    "    for i,j in product([0,1],[0,1]):\n",
    "       H0 += Hcore[i,j]*FermionOperator( [ (2*i,1), (2*j,0) ] )\n",
    "       H0 += Hcore[i,j]*FermionOperator( [ (2*i+1,1), (2*j+1,0) ] )\n",
    "    #\n",
    "    Vc = 0\n",
    "    for p,q,r,s in product([0,1],[0,1],[0,1],[0,1]):\n",
    "        if np.abs(Vtensor[p,q,r,s])>1e-8:\n",
    "            Vc += (\n",
    "                Vtensor[p,q,r,s]/2*FermionOperator( ( (2*p, 1), (2*q, 1), (2*r, 0), (2*s, 0) ) ) + \n",
    "                Vtensor[p,q,r,s]/2*FermionOperator( ( (2*p, 1), (2*q+1, 1), (2*r+1, 0), (2*s, 0) ) ) + \n",
    "                Vtensor[p,q,r,s]/2*FermionOperator( ( (2*p+1, 1), (2*q, 1), (2*r, 0), (2*s+1, 0) ) ) + \n",
    "                Vtensor[p,q,r,s]/2*FermionOperator( ( (2*p+1, 1), (2*q+1, 1), (2*r+1, 0), (2*s+1, 0) ) ) \n",
    "            )\n",
    "    return H0 + Vc"
   ]
  },
  {
   "cell_type": "markdown",
   "id": "6a88bce8",
   "metadata": {},
   "source": [
    "Build H2 molecule using the `gto` module. Solve it using the restricted Hartree Fock method."
   ]
  },
  {
   "cell_type": "code",
   "execution_count": 3,
   "id": "86a97f96-ed97-43b0-ba3b-75d5512991ef",
   "metadata": {},
   "outputs": [
    {
     "name": "stdout",
     "output_type": "stream",
     "text": [
      "converged SCF energy = -1.11734903499028\n"
     ]
    }
   ],
   "source": [
    "bond_length = 0.7 # Angstrom\n",
    "mol = gto.Mole()\n",
    "mol.build(atom=f'H 0 0 {-bond_length/2};H 0 0 {bond_length/2}',basis='sto-3g',unit='A')\n",
    "sol = scf.RHF(mol).run()"
   ]
  },
  {
   "cell_type": "markdown",
   "id": "05e69dd3-55de-43a5-83c5-daa10f339fbe",
   "metadata": {},
   "source": [
    "Create the $\\mathbf{S}^{-1/2}$ matrix for describing the Hamiltonian in terms of orthonormalized basis."
   ]
  },
  {
   "cell_type": "code",
   "execution_count": 4,
   "id": "d40447af-7679-4c9d-898d-6799417e40b3",
   "metadata": {},
   "outputs": [],
   "source": [
    "# Create the \n",
    "S = sol.get_ovlp()\n",
    "D,U = np.linalg.eigh(S)\n",
    "Shalfinv = U @ np.sqrt(np.diag(1/D)) @ U.T"
   ]
  },
  {
   "cell_type": "code",
   "execution_count": 5,
   "id": "a15e8b8f-5a66-4d53-832a-14c5389eacb1",
   "metadata": {},
   "outputs": [],
   "source": [
    "Hfermion = fermionic_hamiltonian(sol,sol.mo_coeff)"
   ]
  },
  {
   "cell_type": "markdown",
   "id": "d850e181-69cb-4feb-827e-1fe12eec8744",
   "metadata": {},
   "source": [
    "## Directly using OpenFermion"
   ]
  },
  {
   "cell_type": "code",
   "execution_count": 6,
   "id": "ab8e083a-d3fd-4e55-b55f-8e0ceee0df5a",
   "metadata": {},
   "outputs": [],
   "source": [
    "# Set molecule parameters\n",
    "geometry = [(\"H\", (0.0, 0.0, -bond_length/2)), (\"H\", (0.0, 0.0, bond_length/2))]\n",
    "hamiltonian = ofpyscf.generate_molecular_hamiltonian(geometry, 'sto-3g', multiplicity=1, charge=0)\n",
    "Hfermion2 = opf.get_fermion_operator(hamiltonian)"
   ]
  },
  {
   "cell_type": "markdown",
   "id": "7cc2ea65-4568-4c31-93d5-57002461c9c1",
   "metadata": {},
   "source": [
    "Check that the Hamiltonian we created above manually from PySCF matrices is equal to the Hamiltonian constructed by OpenFermion for the same molecule."
   ]
  },
  {
   "cell_type": "code",
   "execution_count": 7,
   "id": "fb9cbc75-fc86-4508-8457-69f6693a11c1",
   "metadata": {},
   "outputs": [
    {
     "data": {
      "text/plain": [
       "True"
      ]
     },
     "execution_count": 7,
     "metadata": {},
     "output_type": "execute_result"
    }
   ],
   "source": [
    "Hfermion == Hfermion2"
   ]
  },
  {
   "cell_type": "markdown",
   "id": "24edee10-8319-4132-96e7-423a45b7bab2",
   "metadata": {},
   "source": [
    "## Exact diagonalization\n",
    "Create the $16\\times16$ Hamiltonian that arises from 4 spin orbitals (2 spatial and 2 spin) for 2 electrons.\n",
    "The matrix construction works on `QubitOperator`. However, `FermionOperator` is accepted as input also, and it is first converted to `QubitOperator` via the Jordan Wigner transformation.  "
   ]
  },
  {
   "cell_type": "code",
   "execution_count": 8,
   "id": "148c469c-8bf1-4325-8620-244ce4ead92c",
   "metadata": {},
   "outputs": [],
   "source": [
    "Hmatrix = opf.linalg.get_sparse_operator(Hfermion)"
   ]
  },
  {
   "cell_type": "markdown",
   "id": "40341066-5ce9-4a8f-a593-71e115e6fb96",
   "metadata": {},
   "source": [
    "The expectation value $ \\langle 1 1 0 0 | H | 1 1 0 0\\rangle $ must equal the HF total energy in the ground state, i.e. -1.117 Hartree as found above. Let us check that."
   ]
  },
  {
   "cell_type": "code",
   "execution_count": 9,
   "id": "edc071b4-0c5d-4917-b355-055ac5d23a63",
   "metadata": {},
   "outputs": [
    {
     "data": {
      "text/plain": [
       "(-1.1173490349902795+0j)"
      ]
     },
     "execution_count": 9,
     "metadata": {},
     "output_type": "execute_result"
    }
   ],
   "source": [
    "v = np.zeros(16)\n",
    "i = mathutils.to_decimal(np.array([1,1,0,0]))\n",
    "v[i]=1\n",
    "opf.linalg.expectation(Hmatrix, v)"
   ]
  },
  {
   "cell_type": "code",
   "execution_count": 10,
   "id": "8d7b4ea5-483b-4eba-ac94-9fabc517baf3",
   "metadata": {},
   "outputs": [
    {
     "name": "stdout",
     "output_type": "stream",
     "text": [
      "Min(Energy) -1.1361894540659225\n"
     ]
    },
    {
     "data": {
      "image/png": "[encoded data removed]",
      "text/plain": [
       "<Figure size 200x400 with 1 Axes>"
      ]
     },
     "metadata": {},
     "output_type": "display_data"
    }
   ],
   "source": [
    "E,U = np.linalg.eigh(Hmatrix.toarray())\n",
    "U[np.abs(U)<1e-12]=0\n",
    "fig,ax=PLT.subplots(figsize=(2,4),ylabel='Energy [Hartree]')\n",
    "ax.hlines(E, -0.5,0.5)\n",
    "ax.set_xlim(-1,2)\n",
    "print('Min(Energy)',E[0])"
   ]
  },
  {
   "cell_type": "markdown",
   "id": "8378f22f-9281-409d-8d7a-adf9ec9d807b",
   "metadata": {},
   "source": [
    "Let us look at the lowest energy state. We know that it is represented as\n",
    "\n",
    "$$ \\Psi = \\sum_{i=0}^{15} u[i,0] |i\\rangle$$\n",
    "\n",
    "We pick the non-zero terms in the sum, and expand $|i\\rangle$ into the 4-qubit space by converting each $i$ to its binary form. We know that each term in the sum above is a single Slater determinant in the Fermionic space. From the result below, we see that the dominant determinant is indeed $|1100\\rangle$, but it is slightly mixed with the state $|0011\\rangle$ that occupies the second spatial orbital (i.e. the anti-bonding orbital in the minimal basis of $H_2$). \n",
    "\n",
    "The exact diagonalization clearly produces a lower energy, and shows that the exact ground state is not Hartree Fock."
   ]
  },
  {
   "cell_type": "code",
   "execution_count": 11,
   "id": "2a245588-755d-4f9f-9285-106f3e64e37b",
   "metadata": {},
   "outputs": [
    {
     "name": "stdout",
     "output_type": "stream",
     "text": [
      "Non-zero terms [ 3 12]\n",
      "State in qubit form\n",
      "[(array([0, 0, 1, 1]), (0.10467518571066138+0j)), (array([1, 1, 0, 0]), (-0.9945064632753466+0j))]\n"
     ]
    }
   ],
   "source": [
    "# Drop the zero terms\n",
    "Indices = np.argwhere(np.abs(U[:,0])>0).flatten()\n",
    "print('Non-zero terms',Indices)\n",
    "\n",
    "# Convert the indices to binary form to obtain the state in the computational qubit basis\n",
    "psi = [(mathutils.to_binary(i,4),U[i,0]) for i in Indices]\n",
    "\n",
    "print('State in qubit form')\n",
    "print(psi)"
   ]
  },
  {
   "cell_type": "markdown",
   "id": "474392e4-c406-438c-bd2e-8ebb8317f7a2",
   "metadata": {},
   "source": [
    "## Fermionic Hamiltonian terms\n",
    "\n",
    "Given a Fermionic Hamiltonian like the one we constructed above, we can get all its terms at once as a `dict`. The keys are the tuples $(i,b)$ where $i$ is the index and $b$ represents the creation $b=1$ or annihilation $b=0$ opertors. The values are the coefficients of the terms.  "
   ]
  },
  {
   "cell_type": "code",
   "execution_count": 12,
   "id": "92289eb2",
   "metadata": {},
   "outputs": [
    {
     "data": {
      "text/plain": [
       "{((0, 1), (0, 0)): -1.2778530061568751,\n",
       " (): 0.7559674441714287,\n",
       " ((1, 1), (1, 0)): -1.2778530061568751,\n",
       " ((2, 1), (2, 0)): -0.4482996961016379,\n",
       " ((3, 1), (3, 0)): -0.4482996961016379,\n",
       " ((0, 1), (0, 1), (0, 0), (0, 0)): 0.34119476657602105,\n",
       " ((0, 1), (1, 1), (1, 0), (0, 0)): 0.34119476657602105,\n",
       " ((1, 1), (0, 1), (0, 0), (1, 0)): 0.34119476657602105,\n",
       " ((1, 1), (1, 1), (1, 0), (1, 0)): 0.34119476657602105,\n",
       " ((0, 1), (0, 1), (2, 0), (2, 0)): 0.0895002880307033,\n",
       " ((0, 1), (1, 1), (3, 0), (2, 0)): 0.0895002880307033,\n",
       " ((1, 1), (0, 1), (2, 0), (3, 0)): 0.0895002880307033,\n",
       " ((1, 1), (1, 1), (3, 0), (3, 0)): 0.0895002880307033,\n",
       " ((0, 1), (2, 1), (0, 0), (2, 0)): 0.0895002880307033,\n",
       " ((0, 1), (3, 1), (1, 0), (2, 0)): 0.0895002880307033,\n",
       " ((1, 1), (2, 1), (0, 0), (3, 0)): 0.0895002880307033,\n",
       " ((1, 1), (3, 1), (1, 0), (3, 0)): 0.0895002880307033,\n",
       " ((0, 1), (2, 1), (2, 0), (0, 0)): 0.3353663891543795,\n",
       " ((0, 1), (3, 1), (3, 0), (0, 0)): 0.3353663891543795,\n",
       " ((1, 1), (2, 1), (2, 0), (1, 0)): 0.3353663891543795,\n",
       " ((1, 1), (3, 1), (3, 0), (1, 0)): 0.3353663891543795,\n",
       " ((2, 1), (0, 1), (0, 0), (2, 0)): 0.33536638915437944,\n",
       " ((2, 1), (1, 1), (1, 0), (2, 0)): 0.33536638915437944,\n",
       " ((3, 1), (0, 1), (0, 0), (3, 0)): 0.33536638915437944,\n",
       " ((3, 1), (1, 1), (1, 0), (3, 0)): 0.33536638915437944,\n",
       " ((2, 1), (0, 1), (2, 0), (0, 0)): 0.0895002880307033,\n",
       " ((2, 1), (1, 1), (3, 0), (0, 0)): 0.0895002880307033,\n",
       " ((3, 1), (0, 1), (2, 0), (1, 0)): 0.0895002880307033,\n",
       " ((3, 1), (1, 1), (3, 0), (1, 0)): 0.0895002880307033,\n",
       " ((2, 1), (2, 1), (0, 0), (0, 0)): 0.0895002880307033,\n",
       " ((2, 1), (3, 1), (1, 0), (0, 0)): 0.0895002880307033,\n",
       " ((3, 1), (2, 1), (0, 0), (1, 0)): 0.0895002880307033,\n",
       " ((3, 1), (3, 1), (1, 0), (1, 0)): 0.0895002880307033,\n",
       " ((2, 1), (2, 1), (2, 0), (2, 0)): 0.35255281608639216,\n",
       " ((2, 1), (3, 1), (3, 0), (2, 0)): 0.35255281608639216,\n",
       " ((3, 1), (2, 1), (2, 0), (3, 0)): 0.35255281608639216,\n",
       " ((3, 1), (3, 1), (3, 0), (3, 0)): 0.35255281608639216}"
      ]
     },
     "execution_count": 12,
     "metadata": {},
     "output_type": "execute_result"
    }
   ],
   "source": [
    "Hfermion.terms"
   ]
  },
  {
   "cell_type": "markdown",
   "id": "c232850c-56c2-4d2c-a7ff-4c0612a1c8dc",
   "metadata": {},
   "source": [
    "## Jordan Wigner and Bravyi-Kitaev Transforms"
   ]
  },
  {
   "cell_type": "code",
   "execution_count": 13,
   "id": "d09b22f6-1d6d-422c-b40e-8b24dbfba098",
   "metadata": {},
   "outputs": [
    {
     "name": "stdout",
     "output_type": "stream",
     "text": [
      "(-0.042078976477822175+0j) [] +\n",
      "(0.04475014401535165+0j) [X0 Z1 X2] +\n",
      "(0.04475014401535165+0j) [X0 Z1 X2 Z3] +\n",
      "(0.04475014401535165+0j) [Y0 Z1 Y2] +\n",
      "(0.04475014401535165+0j) [Y0 Z1 Y2 Z3] +\n",
      "(0.1777128746513992+0j) [Z0] +\n",
      "(0.1777128746513992+0j) [Z0 Z1] +\n",
      "(0.16768319457718972+0j) [Z0 Z1 Z2] +\n",
      "(0.16768319457718972+0j) [Z0 Z1 Z2 Z3] +\n",
      "(0.12293305056183809+0j) [Z0 Z2] +\n",
      "(0.12293305056183809+0j) [Z0 Z2 Z3] +\n",
      "(0.17059738328801052+0j) [Z1] +\n",
      "(-0.24274280513140495+0j) [Z1 Z2 Z3] +\n",
      "(0.17627640804319608+0j) [Z1 Z3] +\n",
      "(-0.24274280513140495+0j) [Z2]\n"
     ]
    }
   ],
   "source": [
    "HJW = opf.jordan_wigner(Hfermion)\n",
    "HBK = opf.bravyi_kitaev(Hfermion)\n",
    "print(HBK)"
   ]
  },
  {
   "cell_type": "markdown",
   "id": "2c4a90f4-cb4e-4379-8286-fe8cce9aa5c3",
   "metadata": {},
   "source": [
    "The above printed out form is fine for display. Let us look at how the `QubitOperator` is actually represented. Below we look at the attribute `terms`, which is dict with keys given by the Pauli string $((i, \\hat{Q}),\\ldots)$ where $i$ is the qubit index and $\\hat{Q}$ is a Pauli matrix. The values are the coefficients of the Pauli string in the Hamiltonian. This is convenient to later compute expectation value of the Hamiltonian by evaluating the individual Pauli strings on a given quantum state."
   ]
  },
  {
   "cell_type": "code",
   "execution_count": 14,
   "id": "981d4a32-81db-4df9-a611-3a05675f43de",
   "metadata": {},
   "outputs": [
    {
     "data": {
      "text/plain": [
       "{(): (-0.042078976477822175+0j),\n",
       " ((0, 'Z'),): (0.1777128746513992+0j),\n",
       " ((0, 'Z'), (1, 'Z')): (0.1777128746513992+0j),\n",
       " ((2, 'Z'),): (-0.24274280513140495+0j),\n",
       " ((1, 'Z'), (2, 'Z'), (3, 'Z')): (-0.24274280513140495+0j),\n",
       " ((1, 'Z'),): (0.17059738328801052+0j),\n",
       " ((0, 'Y'), (1, 'Z'), (2, 'Y'), (3, 'Z')): (0.04475014401535165+0j),\n",
       " ((0, 'X'), (1, 'Z'), (2, 'X')): (0.04475014401535165+0j),\n",
       " ((0, 'X'), (1, 'Z'), (2, 'X'), (3, 'Z')): (0.04475014401535165+0j),\n",
       " ((0, 'Y'), (1, 'Z'), (2, 'Y')): (0.04475014401535165+0j),\n",
       " ((0, 'Z'), (2, 'Z')): (0.12293305056183809+0j),\n",
       " ((0, 'Z'), (2, 'Z'), (3, 'Z')): (0.12293305056183809+0j),\n",
       " ((0, 'Z'), (1, 'Z'), (2, 'Z'), (3, 'Z')): (0.16768319457718972+0j),\n",
       " ((0, 'Z'), (1, 'Z'), (2, 'Z')): (0.16768319457718972+0j),\n",
       " ((1, 'Z'), (3, 'Z')): (0.17627640804319608+0j)}"
      ]
     },
     "execution_count": 14,
     "metadata": {},
     "output_type": "execute_result"
    }
   ],
   "source": [
    "HBK.terms"
   ]
  },
  {
   "cell_type": "markdown",
   "id": "c261bdfe-92ef-4c95-a48c-20a1ae7f0a34",
   "metadata": {},
   "source": [
    "Alternatively, we can use the function `get_operators` to get each term separately as a dict. The function `get_operators` returns a list of `QubitOperators` the sum of which makes up the full Hamiltonian."
   ]
  },
  {
   "cell_type": "code",
   "execution_count": 15,
   "id": "fb625051-9f6c-4022-9b29-96b56ebc3946",
   "metadata": {},
   "outputs": [
    {
     "name": "stdout",
     "output_type": "stream",
     "text": [
      "First 4 terms in the sum of Pauli strings representing HBK\n",
      "{(): (-0.042078976477822175+0j)}\n",
      "{((0, 'Z'),): (0.1777128746513992+0j)}\n",
      "{((0, 'Z'), (1, 'Z')): (0.1777128746513992+0j)}\n",
      "{((2, 'Z'),): (-0.24274280513140495+0j)}\n"
     ]
    }
   ],
   "source": [
    "L = list(HBK.get_operators())\n",
    "print('First 4 terms in the sum of Pauli strings representing HBK')\n",
    "for i in range(4):\n",
    "    print(L[i].terms)"
   ]
  },
  {
   "cell_type": "markdown",
   "id": "e2974a13-efe1-4397-baea-83909c4e5292",
   "metadata": {},
   "source": [
    "## Mapping Fermionic terms to Qubits"
   ]
  },
  {
   "cell_type": "code",
   "execution_count": 16,
   "id": "402dacc6",
   "metadata": {},
   "outputs": [
    {
     "data": {
      "text/plain": [
       "-0.25 [] +\n",
       "0.25 [Z1] +\n",
       "-0.25 [Z1 Z2] +\n",
       "0.25 [Z2]"
      ]
     },
     "execution_count": 16,
     "metadata": {},
     "output_type": "execute_result"
    }
   ],
   "source": [
    "opf.transforms.jordan_wigner_two_body(1,2,1,2,coefficient=1)"
   ]
  },
  {
   "cell_type": "code",
   "execution_count": null,
   "id": "6bec381b-849f-46ab-aba0-beb3b50ba484",
   "metadata": {},
   "outputs": [],
   "source": []
  }
 ],
 "metadata": {
  "kernelspec": {
   "display_name": "Python 3 (ipykernel)",
   "language": "python",
   "name": "python3"
  },
  "language_info": {
   "codemirror_mode": {
    "name": "ipython",
    "version": 3
   },
   "file_extension": ".py",
   "mimetype": "text/x-python",
   "name": "python",
   "nbconvert_exporter": "python",
   "pygments_lexer": "ipython3",
   "version": "3.12.8"
  }
 },
 "nbformat": 4,
 "nbformat_minor": 5
}
