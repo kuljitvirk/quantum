{
 "cells": [
  {
   "cell_type": "markdown",
   "id": "1b19774d",
   "metadata": {},
   "source": [
    "# Basics of Hartree-Fock calculation in PySCF with H2 Molecule \n",
    "\n",
    "This notebook is an exercise in learning to use PySCF and how it defines various quantities in the self-consistent calculations. \n",
    "\n",
    "I use the hydrogen molecule $H_2$ in the minimial basis, and apply the Hartree-Fock theory to compute its molecular orbitals, orbital energies, the total ground state energy using PySCF. I also use the `ao2mo2` to obtain the one- and two-body integrals using PySCF. The notebook, and also PySCF conventions closely follow the textbook *Modern Quantum Chemistry* by Szabo and Ostlund [1]. \n",
    "\n",
    "The notebook helps me remember the following about PySCF:\n",
    "* Define molecular geometry.\n",
    "* Do SCF calculation.\n",
    "* Get total energy, J & K matrices, core matrix, Fock matrix, and the overlap matrix.\n",
    "* Get the molecular orbital (MO) coefficients.\n",
    "* Use `ao2mo` get electron repulsion integrals (ERI) in atomic orbitals and transform them into various other basis, including MO.\n",
    "* Use `ao2mo` to obtain the tensor form of the ERI.\n",
    "\n",
    "## Fock-Operator and Molecular Orbitals\n",
    "\n",
    "Recall Bohr radius, and 1 Hartree,\n",
    "\n",
    "$$ a_0 = \\frac{4\\pi \\epsilon_0\\hbar^2}{m_e e^2}, \\;\\;\\;\n",
    " E_0 = \\frac{e^2}{4\\pi \\epsilon_0 a_0}. $$\n",
    "\n",
    "Hamiltonian for the $H_2$ molecule within the Born-Oppenheimer approximation, \n",
    "\n",
    "$$ H = \\sum_{i=1}^{2}\\left[-\\frac{1}{2}\\nabla_i^2 - \\sum_{A=1}^{2}\\frac{1}{|\\boldsymbol{R}_A-\\boldsymbol{r}_i|}\\right] + \\frac{1}{|\\boldsymbol{r}_1-\\boldsymbol{r}_2|} + \\frac{1}{|\\boldsymbol{R}_1-\\boldsymbol{R}_2|}. $$\n",
    "\n",
    "The term in brackets is the one-electron Hamiltonian, which we denote as $\\hat{h}$ below.\n",
    "\n",
    "To specify a Hartree-Fock solution to the eigenstates of this system is to specify the electronic wavefunction as a *single* Slater determinant of the spin orbitals. When the same spatial orbitals are assigned to each spin, this is called the restricted Hartree-Fock state, and under this restriction, it can be shown (see Section 3.4.1 of [1]) that the spatial orbitals solve the eigenvalue equation, \n",
    "\n",
    "$$ \\hat{f}(\\boldsymbol{r}_1)\\psi_a(\\boldsymbol{r}_1) = \\varepsilon_a \\psi_a(\\boldsymbol{r}_1),$$ \n",
    "\n",
    "where $\\hat{f}$ is the Fock operator defined as,\n",
    "\n",
    "$$ \\hat{f}(1) = \\hat{h}(1) + \\sum_{a=1}^{N/2} 2 \\hat{J}_a(1) - \\hat{K}_a(1). $$\n",
    "\n",
    "In the above equation, the Coulomb and Exchange operators $\\hat{J}_a$ and $\\hat{K}_a$ are,\n",
    "\n",
    "$$ \\hat{J}_a(1) = \\int d\\boldsymbol{r}_2 \\psi_a^*(2)\\frac{1}{r_{12}}\\psi_a(2),$$\n",
    "$$ \\hat{K}_a(1)\\psi_i(1) = \\left[\\int d\\boldsymbol{r}_2 \\psi_a^*(2)\\frac{1}{r_{12}}\\psi_i(2) \\right]\\psi_a(1).$$\n",
    "\n",
    "## Basis Functions and Fock-Matrix \n",
    "\n",
    "Expand the molecular orbitals in terms of basis functions, which are typically a fixed family of functions (e.g. 1s orbitals) centered on the different atoms of the molecule. In general, \n",
    "\n",
    "$$ \\psi_i(\\boldsymbol{r}) = \\sum_{\\mu} C_{\\mu i} \\phi_{\\mu}(\\boldsymbol{r}).$$\n",
    "\n",
    "The bases $\\phi_\\mu$ are not orthogonal in general. Substitution of this expansion into the Fock-operator eigenvalue equation above yields the generalized eigenvalue equation, \n",
    "\n",
    "$$ \\mathbf{FC} = \\mathbf{SC} \\boldsymbol{\\varepsilon}. $$\n",
    "\n",
    "The overlap matrix, $\\mathbf{S}$ is,\n",
    "\n",
    "$$ S_{\\mu\\nu} = \\int d\\boldsymbol{r} \\;\\; \\phi_\\mu^*(\\boldsymbol{r})\\phi_\\nu(\\boldsymbol{r}). $$\n",
    "\n",
    "The Fock matrix $\\mathbf{F}=\\mathbf{H}^{core} + \\mathbf{G}$, where $\\mathbf{H}^{core}$ is the matrix representation of $\\hat{h}$, which contains the kinetic energy of one electron and its potential energy in the total nuclear potential of the molecule. The electron-electron interaction is contained in the matrix, \n",
    "\n",
    "$$ G_{\\mu\\nu} = \\sum_{a}^{N/2} \\sum_{\\lambda\\sigma} C_{\\lambda a}C_{\\sigma a}^* (2 V_{\\mu\\lambda,\\nu\\sigma}-V_{\\mu\\lambda,\\sigma\\nu}) \\;\\; = \n",
    "\\sum_{\\lambda\\sigma} P_{\\lambda\\sigma}\\left[ V_{\\mu\\lambda,\\nu\\sigma} - \\frac{1}{2} V_{\\mu\\lambda,\\sigma\\nu} \\right].\n",
    "$$\n",
    "\n",
    "The matrix $P$ is the density matrix, which is defined with a factor of 2 as in Eq. 3.144 in [1] for the closed shell RHF as,\n",
    "\n",
    "$$\n",
    "P_{\\lambda\\sigma} = 2\\sum_{a}^{N/2}C_{\\lambda a}C_{\\sigma a}^* \\rho_a,\n",
    "$$\n",
    "\n",
    "where $\\rho_a$ is the occupancy of the orbital $a$.\n",
    "\n",
    "The 2-body matrix elements in the expression for $G_{\\mu\\nu}$ define the Coulomb and exchange interactions and they correspond to the integral (see Eq. 3.155 in [1]), \n",
    "\n",
    "$$\n",
    "V_{\\mu\\lambda,\\nu\\sigma} = \\int d\\boldsymbol{r}_1 \\int d\\boldsymbol{r}_2\n",
    "\\phi^*_\\mu(\\boldsymbol{r}_1)\\phi^*_\\lambda(\\boldsymbol{r}_2)\\frac{1}{|\\boldsymbol{r}_1-\\boldsymbol{r}_2|}\n",
    "\\phi_\\nu(\\boldsymbol{r}_1)\\phi_\\sigma(\\boldsymbol{r}_2).\n",
    "$$\n",
    "\n",
    "The eigenvalues of the Fock operator are the orbital energies, $\\varepsilon_a$, which is the energy of 1 electron in the mean-field of all other electrons. Thus each orbital corresponds to $N(N-1)$ electron interactions. The total energy of the system must divide this interaction by 2 in order to avoid counting twice when adding the orbital energies. As explained below Eq. 3.82 in [1],\n",
    "\n",
    "$$\n",
    "E_0 = \\langle\\Psi|H|\\psi\\rangle = \\sum_{a=1}^{N} \\langle a|\\hat{h}|a\\rangle + \\frac{1}{2}\\sum_{ab} V_{ab,ab},\n",
    "$$\n",
    "\n",
    "where $a$ are the MOs that solve the Fock matrix eigenvalue equation, and $V_{ab,ab}$ are the corresponding 2-body integrals as defined above but in the *orthogonal* molecular orbitals and not the atomic orbitals or basis functions. In terms of the matrices represented in the basis functions,\n",
    "\n",
    "$$\n",
    "E_0 = \\mathrm{Tr}\\left[\\hat{\\rho} H \\right] = \\frac{1}{2}\\sum_{\\mu\\nu} P_{\\mu\\nu}\\left( H^{core}_{\\nu\\mu} + F_{\\nu\\mu}\\right).\n",
    "$$\n",
    "\n",
    "## Reference\n",
    "[1] *Modern Quantum Chemistry* by Szabo and Ostlund \n"
   ]
  },
  {
   "cell_type": "code",
   "execution_count": 1,
   "id": "251a641b-2a69-4c03-9900-5e16e5ddd40a",
   "metadata": {},
   "outputs": [],
   "source": [
    "import numpy as np\n",
    "from scipy import linalg\n",
    "from pyscf import gto, scf, ao2mo\n",
    "from quantum.utils import plotting as PLT\n",
    "from quantum import constants"
   ]
  },
  {
   "cell_type": "markdown",
   "id": "6a88bce8",
   "metadata": {},
   "source": [
    "**Step 1: Build H2 molecule** using the `gto` module."
   ]
  },
  {
   "cell_type": "code",
   "execution_count": 2,
   "id": "8603eb74-558b-421f-8999-1bb0bdabe111",
   "metadata": {},
   "outputs": [
    {
     "name": "stdout",
     "output_type": "stream",
     "text": [
      "Bond Length [bohr] 1.3983973331193276\n"
     ]
    },
    {
     "data": {
      "text/plain": [
       "<pyscf.gto.mole.Mole at 0x7a8130374080>"
      ]
     },
     "execution_count": 2,
     "metadata": {},
     "output_type": "execute_result"
    }
   ],
   "source": [
    "bond_length = 0.74 # Angstrom\n",
    "bond_length_bohr = bond_length * 1e-10 / (constants.bohr_radius)\n",
    "print('Bond Length [bohr]',bond_length_bohr)\n",
    "mol = gto.Mole()\n",
    "mol.build(atom=f'H 0 0 {-bond_length/2};H 0 0 {bond_length/2}',basis='sto-3g',unit='A')"
   ]
  },
  {
   "cell_type": "markdown",
   "id": "9e3972f2-536c-4942-bc01-cbc45fa75657",
   "metadata": {},
   "source": [
    "**Step 2: Solving via the restricted Hartree Fock method.**\n",
    "\n",
    "The `RHF` function executes the SC procedure described in Section 3.4.6 in [1]. It also returns the total ground state energy including the nuclear repulsion energy. In Step 3 below, we will break down this energy into its various components."
   ]
  },
  {
   "cell_type": "code",
   "execution_count": 3,
   "id": "66485e8d-e04b-40cc-9185-c1b4836466af",
   "metadata": {},
   "outputs": [
    {
     "name": "stdout",
     "output_type": "stream",
     "text": [
      "converged SCF energy = -1.11675930739643\n",
      "converged SCF energy = -1.11675930739643\n",
      "Etot =  -1.1167593073964255 \n",
      "\n",
      "Check Nuclear Repulsion Energy: \n",
      "              1/R =  0.7151043385997851 \n",
      " sol.energy_nuc() =  0.7151043390810812\n",
      "MO coefficients (each MO in a column)\n",
      " [[ 0.54884228  1.21245192]\n",
      " [ 0.54884228 -1.21245192]] \n",
      "\n"
     ]
    }
   ],
   "source": [
    "# One-liner\n",
    "sol = scf.RHF(mol).run()\n",
    "# Alternatively, with kernel command\n",
    "sol = scf.RHF(mol)\n",
    "# Note that 'kernel' returns the SCF energy\n",
    "Etot = sol.kernel()\n",
    "print('Etot = ',Etot,'\\n')\n",
    "print('Check Nuclear Repulsion Energy: \\n',\n",
    "      '             1/R = ',1/bond_length_bohr,'\\n',\n",
    "      'sol.energy_nuc() = ',sol.energy_nuc())\n",
    "print('MO coefficients (each MO in a column)\\n',sol.mo_coeff,'\\n')"
   ]
  },
  {
   "cell_type": "markdown",
   "id": "b2e28d8a-99fc-4203-a698-b08b4dafb7bf",
   "metadata": {},
   "source": [
    "$\\mathbf{H}^{core}$, $J$, $K$, $\\mathbf{S}$, and the Fock matrix $\\mathbf{F}$"
   ]
  },
  {
   "cell_type": "code",
   "execution_count": 4,
   "id": "bfd3c1f4-d10f-435f-b1ab-0cdda48cae2e",
   "metadata": {},
   "outputs": [
    {
     "name": "stdout",
     "output_type": "stream",
     "text": [
      "Hcore:\n",
      " [[-1.12095946 -0.95937577]\n",
      " [-0.95937577 -1.12095946]] \n",
      "\n",
      "J:\n",
      " [[1.34575531 0.89426314]\n",
      " [0.89426314 1.34575531]] \n",
      "\n",
      "K:\n",
      " [[1.18164378 1.05837468]\n",
      " [1.05837468 1.18164378]] \n",
      "\n",
      "S:\n",
      " [[1.         0.65987312]\n",
      " [0.65987312 1.        ]] \n",
      "\n",
      "Fock Matrix:\n",
      " [[-0.36602603 -0.59429997]\n",
      " [-0.59429997 -0.36602603]] \n",
      "\n"
     ]
    }
   ],
   "source": [
    "Hcore = sol.get_hcore()\n",
    "J,K   = sol.get_jk()\n",
    "F     = sol.get_fock()\n",
    "S     = sol.get_ovlp()\n",
    "print('Hcore:\\n',Hcore,'\\n')\n",
    "print('J:\\n',J,'\\n')\n",
    "print('K:\\n',K,'\\n')\n",
    "print('S:\\n',S,'\\n')\n",
    "print('Fock Matrix:\\n',F,'\\n')"
   ]
  },
  {
   "cell_type": "markdown",
   "id": "29b47e39-0b82-4fa2-8d4d-708240cdd697",
   "metadata": {},
   "source": [
    "**Expression for Fock Matrix in terms of** $\\mathbf{H}^{core}$, $J$, $K$\n",
    "Confirm that $$\\mathbf{F} = \\mathbf{H}^{core} + \\mathbf{J} - \\frac{1}{2}\\mathbf{K}.$$"
   ]
  },
  {
   "cell_type": "code",
   "execution_count": 5,
   "id": "5a2c529d-67f9-40f7-bc77-edb88f27b8ad",
   "metadata": {},
   "outputs": [
    {
     "name": "stdout",
     "output_type": "stream",
     "text": [
      "Hcore + J - K/2 == Fock \n",
      " True\n"
     ]
    }
   ],
   "source": [
    "print('Hcore + J - K/2 == Fock \\n', np.all(Hcore + J - K/2 == F))"
   ]
  },
  {
   "cell_type": "markdown",
   "id": "2adbb960-e196-458f-9972-0f06c6d6b97c",
   "metadata": {},
   "source": [
    "**Expression for Ground State Energy**\n",
    "$$ E_0 = \\langle\\psi_a| \\hat{h} + \\hat{f} |\\psi_b\\rangle.$$"
   ]
  },
  {
   "cell_type": "code",
   "execution_count": 6,
   "id": "3be18e7e-59ac-400a-a9c8-baa67864a2b8",
   "metadata": {},
   "outputs": [
    {
     "name": "stdout",
     "output_type": "stream",
     "text": [
      "Total Electronic Energy =  -1.8318636464775064\n",
      "+ Nuclear Repulsion     =  -1.1167593078777214\n",
      "sol.e_tot               =  -1.1167593073964255\n"
     ]
    }
   ],
   "source": [
    "TotalElectronicEnergy = sol.mo_coeff[:,0].T @ (sol.get_hcore() + sol.get_fock()) @ sol.mo_coeff[:,0]\n",
    "print('Total Electronic Energy = ',TotalElectronicEnergy)\n",
    "print('+ Nuclear Repulsion     = ',TotalElectronicEnergy + 1/bond_length_bohr)\n",
    "print('sol.e_tot               = ',sol.e_tot)\n"
   ]
  },
  {
   "cell_type": "markdown",
   "id": "e6c1bec4-cdb9-4a16-88ed-b9109609ab54",
   "metadata": {},
   "source": [
    "**Ground State Density Matrix**\n",
    "\n",
    "In the ground state, the occupancy is only in the $a=0$ orbital since it can fill 2 spin states and thus account for all 2 electrons in the molecule:\n",
    "\n",
    "$$ P_{\\mu\\nu} = 2 C_{\\mu,0} C_{\\nu,0}^*. $$\n",
    "\n",
    "Note that this density matrix is $2\\times2$ in the basis expansion. The reduction of MO to only $a=0$ comes from the fact that the occupancy $\\rho_a = 0$ for all $a > 0$."
   ]
  },
  {
   "cell_type": "code",
   "execution_count": 7,
   "id": "b18f5e48-10e9-4d9a-975b-abc3d1834c3f",
   "metadata": {},
   "outputs": [
    {
     "name": "stdout",
     "output_type": "stream",
     "text": [
      "DM in Ground State\n",
      " [[0.60245569 0.60245569]\n",
      " [0.60245569 0.60245569]] \n",
      "\n",
      "DM from Ref [1]\n",
      " [[0.60245569 0.60245569]\n",
      " [0.60245569 0.60245569]]\n"
     ]
    }
   ],
   "source": [
    "P = 2 * sol.mo_coeff[:,[0]] @ sol.mo_coeff[:,[0]].T\n",
    "print('DM in Ground State\\n',P,'\\n')\n",
    "print('DM from Ref [1]\\n',1/(1+S[0,1])*np.ones((2,2)))"
   ]
  },
  {
   "cell_type": "markdown",
   "id": "71b423a2",
   "metadata": {},
   "source": [
    "**Potential energy surface as a function of Bond Length.**"
   ]
  },
  {
   "cell_type": "code",
   "execution_count": 8,
   "id": "4d2fe040-dac1-4405-9565-b7b758465591",
   "metadata": {},
   "outputs": [
    {
     "data": {
      "text/plain": [
       "[<matplotlib.lines.Line2D at 0x7a811e737050>]"
      ]
     },
     "execution_count": 8,
     "metadata": {},
     "output_type": "execute_result"
    },
    {
     "data": {
      "image/png": "[encoded data removed]",
      "text/plain": [
       "<Figure size 640x480 with 1 Axes>"
      ]
     },
     "metadata": {},
     "output_type": "display_data"
    }
   ],
   "source": [
    "BondLengths = np.arange(0.2,3.6,0.05)\n",
    "E = np.zeros(len(BondLengths))\n",
    "for i,d in enumerate(BondLengths):\n",
    "    mol = gto.Mole()\n",
    "    mol.build(atom=f'H 0 0 {-d/2};H 0 0 {d/2}',basis='sto-3g',unit='A')\n",
    "    rhf = scf.RHF(mol)\n",
    "    rhf.verbose=0  \n",
    "    rhf.kernel()  \n",
    "    E[i] = rhf.e_tot\n",
    "#\n",
    "fig,ax=PLT.subplots(xlabel='Bond Length [Angstrom]',ylabel='Total Energy')\n",
    "ax.plot(BondLengths,E)"
   ]
  },
  {
   "cell_type": "markdown",
   "id": "70e28f22-5521-44fa-9541-5efd51f82320",
   "metadata": {},
   "source": [
    "## Coulomb Integrals\n",
    "\n",
    "Here we use the module `ao2mo` to obtain the matrix elements $V_{\\mu\\lambda,\\nu\\sigma}$ in various basis. Note that PySCF uses the chemist notation so that \n",
    "\n",
    "$$ V_{pq,rs} = V^{\\mathrm{PySCF}}_{ps,qr}.$$\n",
    "\n",
    "The transformation back to physicist notation is made by transpose function.\n",
    "\n",
    "The `ao2mo.restore` converts the 2e integrals (in Chemist's notation) between different level of permutation symmetry (8-fold, 4-fold, or no symmetry). This function accepts the contracted matrix notation produced by `ao2mo.kernel` to give the 4-tensor.\n",
    "\n",
    "The `ao2mo.kernel` computes the 2-body electron repulsion integrals, and transforms to various bases specified as matrices with columns containing the basis vectors. First we produce the result in AO basis. Note that these basis are **not orthonormal** and therefore should not be used in the second quantized Hamiltonian. They will not correspond to canonical anti-commutation relations. "
   ]
  },
  {
   "cell_type": "code",
   "execution_count": 9,
   "id": "8051c80c-f392-4d4a-855d-6b47a5736296",
   "metadata": {},
   "outputs": [
    {
     "name": "stdout",
     "output_type": "stream",
     "text": [
      "\n",
      "Tensor Form:\n",
      " [[[[7.74605944e-01 1.63878292e-03]\n",
      "   [1.63878292e-03 1.29019963e-05]]\n",
      "\n",
      "  [[1.63878292e-03 1.29019963e-05]\n",
      "   [1.49063340e-01 1.63878292e-03]]]\n",
      "\n",
      "\n",
      " [[[1.63878292e-03 1.49063340e-01]\n",
      "   [1.29019963e-05 1.63878292e-03]]\n",
      "\n",
      "  [[1.29019963e-05 1.63878292e-03]\n",
      "   [1.63878292e-03 7.74605944e-01]]]]\n"
     ]
    }
   ],
   "source": [
    "Vtensor = ao2mo.restore(1,                       # 1 means do not use symmetry\n",
    "                        ao2mo.kernel(            # Function that computes ERI\n",
    "                            mol,                 # molecule defined above with gto.Mole\n",
    "                            np.eye(2)),          # Original AO basis, i.e. make no transformation\n",
    "                        2                        # Number of basis functions\n",
    "                       )\n",
    "# <pq | V | rs > = (ps|qr) = pyscfERI[p,s,q,r]\n",
    "Vtensor = Vtensor.transpose((0,2,3,1))\n",
    "Vtensor[Vtensor<1e-12] = 0\n",
    "print('\\nTensor Form:\\n',Vtensor)"
   ]
  },
  {
   "cell_type": "markdown",
   "id": "0d3f1838-a5e6-475c-b4f0-2f10e8ffc8c5",
   "metadata": {},
   "source": [
    "**ERI in MO basis**"
   ]
  },
  {
   "cell_type": "code",
   "execution_count": 10,
   "id": "712ee381-4f0f-4bb6-87d8-ffd533b384d8",
   "metadata": {},
   "outputs": [
    {
     "name": "stdout",
     "output_type": "stream",
     "text": [
      "\n",
      "Tensor Form:\n",
      " [[[[0.16881849 0.        ]\n",
      "   [0.         0.55400164]]\n",
      "\n",
      "  [[0.         0.55400164]\n",
      "   [0.81800984 0.        ]]]\n",
      "\n",
      "\n",
      " [[[0.         0.81800984]\n",
      "   [0.55400164 0.        ]]\n",
      "\n",
      "  [[0.55400164 0.        ]\n",
      "   [0.         3.96390934]]]]\n"
     ]
    }
   ],
   "source": [
    "Vtensor = ao2mo.restore(1,ao2mo.kernel(mol, sol.mo_coeff), sol.mo_coeff.shape[1])\n",
    "# <pq | V | rs > = (ps|qr) = pyscfERI[p,s,q,r]\n",
    "Vtensor = Vtensor.transpose((0,2,3,1))\n",
    "Vtensor[Vtensor<1e-12] = 0\n",
    "print('\\nTensor Form:\\n',Vtensor)"
   ]
  },
  {
   "cell_type": "markdown",
   "id": "01b7b791-dfbd-462b-9e9e-946863436a73",
   "metadata": {},
   "source": [
    "**ERI in orthogonalized bases**\n",
    "\n",
    "Note that if we define new basis functions as\n",
    "\n",
    "$$ \\phi'_\\mu = \\sum_{\\nu} X_\\nu\\mu \\phi_\\nu$$\n",
    "\n",
    "where $ \\mathbf{X} =\\mathbf{S}^{-1/2}$, then the new functions are orthonormal. These are then good basis functions to expand the second quantized Hamiltonian, and they do not require the SCF solution for the molecule to first obtain MOs."
   ]
  },
  {
   "cell_type": "code",
   "execution_count": 11,
   "id": "2e44b3f8-beb5-4f30-9690-30def081805e",
   "metadata": {},
   "outputs": [
    {
     "name": "stdout",
     "output_type": "stream",
     "text": [
      "Check: S @ (Shalfinv @ Shalfinv) = I\n",
      " [[ 1.00000000e+00 -7.50116859e-17]\n",
      " [-1.69582215e-16  1.00000000e+00]] \n",
      "\n",
      "\n",
      "\n",
      "Tensor Form:\n",
      " [[[[0.45856998 0.        ]\n",
      "   [0.         0.3127713 ]]\n",
      "\n",
      "  [[0.         0.3127713 ]\n",
      "   [0.46182174 0.        ]]]\n",
      "\n",
      "\n",
      " [[[0.         0.46182174]\n",
      "   [0.3127713  0.        ]]\n",
      "\n",
      "  [[0.3127713  0.        ]\n",
      "   [0.         0.46512511]]]]\n"
     ]
    }
   ],
   "source": [
    "D,X = np.linalg.eigh(S)\n",
    "Shalfinv = X @ np.diag(1/np.sqrt(D)) @ X.T\n",
    "print('Check: S @ (Shalfinv @ Shalfinv) = I\\n',S@Shalfinv@Shalfinv,'\\n\\n')\n",
    "\n",
    "Vtensor = ao2mo.restore(1,ao2mo.kernel(mol, X), X.shape[1])\n",
    "# # <pq | V | rs > = (ps|qr) = pyscfERI[p,s,q,r]\n",
    "Vtensor = Vtensor.transpose((0,2,3,1))\n",
    "Vtensor[Vtensor<1e-12] = 0\n",
    "print('\\nTensor Form:\\n',Vtensor)"
   ]
  },
  {
   "cell_type": "code",
   "execution_count": null,
   "id": "eafa0290-c4fd-4ff2-bc4d-b51721324bf3",
   "metadata": {},
   "outputs": [],
   "source": []
  }
 ],
 "metadata": {
  "kernelspec": {
   "display_name": "qc",
   "language": "python",
   "name": "python3"
  },
  "language_info": {
   "codemirror_mode": {
    "name": "ipython",
    "version": 3
   },
   "file_extension": ".py",
   "mimetype": "text/x-python",
   "name": "python",
   "nbconvert_exporter": "python",
   "pygments_lexer": "ipython3",
   "version": "3.12.8"
  }
 },
 "nbformat": 4,
 "nbformat_minor": 5
}
