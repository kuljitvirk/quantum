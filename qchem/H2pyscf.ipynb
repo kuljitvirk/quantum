{
 "cells": [
  {
   "cell_type": "markdown",
   "id": "1b19774d",
   "metadata": {},
   "source": [
    "Practice problem for exercising the basics of Hartree-Fock theory for molecular orbitals using PySCF. My fundamental understanding for the quantum chemistry practices comes from the book *Modern Quantum Chemistry* by Szabo and Ostlund. In the notebook [STOGauss.ipynb](STOGauss.ipynb), I worked out the computation of STO-2G and STO-3G basis sets using Scipy optimizer. Here I have swtiched to using PySCF to work through the physics at a high level. This notebook also provides the key functions in PySCF to obtaint he lower level results such as core Hamiltonian, Coulomb and exchange matrices, and also the overlap integrals."
   ]
  },
  {
   "cell_type": "code",
   "execution_count": 145,
   "id": "251a641b-2a69-4c03-9900-5e16e5ddd40a",
   "metadata": {},
   "outputs": [],
   "source": [
    "import numpy as np\n",
    "from scipy import linalg\n",
    "from pyscf import gto, scf, ao2mo\n",
    "import tqdm\n",
    "from quantum.utils import plotting as PLT"
   ]
  },
  {
   "cell_type": "markdown",
   "id": "6a88bce8",
   "metadata": {},
   "source": [
    "Build H2 molecule using the `gto` module. Solve it using the restricted Hartree Fock method."
   ]
  },
  {
   "cell_type": "code",
   "execution_count": 146,
   "id": "bae797ba",
   "metadata": {},
   "outputs": [
    {
     "name": "stdout",
     "output_type": "stream",
     "text": [
      "converged SCF energy = -1.11671432506255\n",
      "converged SCF energy = -1.11671432506255\n",
      "Components of HF Hamiltonian\n",
      "Hcore=\n",
      "[[-1.12040901 -0.95837996]\n",
      " [-0.95837996 -1.12040901]]\n",
      "J=\n",
      "[[1.34543042 0.89330207]\n",
      " [0.89330207 1.34543042]]\n",
      "K=\n",
      "[[1.18111752 1.05761497]\n",
      " [1.05761497 1.18111752]]\n",
      "S = \n",
      "[[1.         0.65931821]\n",
      " [0.65931821 1.        ]]\n",
      "Confirm how Fock matrix is defined in PySCF in the expansion basis (not molecular orbitals)\n",
      "Fock Matrix (sol.get_fock()) \n",
      "[[-0.36553735 -0.59388538]\n",
      " [-0.59388538 -0.36553735]]\n",
      "Hcore + J - K/2 (as in Eq. 3.154 in Szabo & Ostlund)\n",
      "[[-0.36553735 -0.59388538]\n",
      " [-0.59388538 -0.36553735]]\n",
      "Orbital Energies: Ex 3.26 in Szabo et. al.\n",
      "[-0.57820298  0.67026777]\n",
      "Properties\n",
      "Total Electronic Energy (Szabo et. al. Ex 3.27  )\n",
      "-1.8310000393482653\n",
      "Total Electronic Energy (Szabo et. al. Eq. 3.184)\n",
      "-1.831000039348265\n",
      "Nuclear Repulsion Energy = \n",
      "0.7142857142857143\n",
      "Total Ground State Energy (Electronic Energy + Repulsion) \n",
      "-1.116714325062551\n"
     ]
    }
   ],
   "source": [
    "bond_length = 1.4 # Bohr\n",
    "mol = gto.Mole()\n",
    "mol.build(atom=f'H 0 0 {-bond_length/2};H 0 0 {bond_length/2}',basis='sto-3g',unit='B')\n",
    "\n",
    "sol = scf.RHF(mol)\n",
    "sol.kernel()\n",
    "\n",
    "# Alternatively\n",
    "sol = scf.RHF(mol).run()\n",
    "\n",
    "Hcore = sol.get_hcore()\n",
    "J,K   = sol.get_jk()\n",
    "F     = sol.get_fock()\n",
    "S     = sol.get_ovlp()\n",
    "\n",
    "# Solution to orbitals in Roothan's equation\n",
    "E,V = linalg.eigh(F, S)\n",
    "\n",
    "\n",
    "Eelec_gs = (F[0,0] + F[0,1] + Hcore[0,0] + Hcore[0,1])/(1 + S[0,1])\n",
    "\n",
    "print(\n",
    "    'Components of HF Hamiltonian',\n",
    "    'Hcore=',Hcore, \n",
    "    'J=',J, \n",
    "    'K=',K,\n",
    "    'S = ',S,sep='\\n')\n",
    "print(\n",
    "    'Confirm how Fock matrix is defined in PySCF in the expansion basis (not molecular orbitals)',\n",
    "    'Fock Matrix (sol.get_fock()) ',F,\n",
    "    'Hcore + J - K/2 (as in Eq. 3.154 in Szabo & Ostlund)',Hcore + J - K/2,\n",
    "    'Orbital Energies: Ex 3.26 in Szabo et. al.',E,\n",
    "    'Properties',\n",
    "    'Total Electronic Energy (Szabo et. al. Ex 3.27  )',Eelec_gs,\n",
    "    'Total Electronic Energy (Szabo et. al. Eq. 3.184)', V[:,0] @ (Hcore + F) @ V[:,0],\n",
    "    'Nuclear Repulsion Energy = ',1/bond_length,\n",
    "    'Total Ground State Energy (Electronic Energy + Repulsion) ',Eelec_gs + 1/bond_length,\n",
    "    sep='\\n'\n",
    "    )"
   ]
  },
  {
   "cell_type": "code",
   "execution_count": 153,
   "id": "63d85ffb",
   "metadata": {},
   "outputs": [
    {
     "data": {
      "text/plain": [
       "(array([[0.77460594, 0.44410766, 0.56967593],\n",
       "        [0.44410766, 0.29702854, 0.44410766],\n",
       "        [0.56967593, 0.44410766, 0.77460594]]),\n",
       " array([[6.74594084e-01, 8.32667268e-17, 6.63563991e-01],\n",
       "        [9.71445147e-17, 1.81257915e-01, 4.71844785e-16],\n",
       "        [6.63563991e-01, 3.88578059e-16, 6.97495347e-01]]))"
      ]
     },
     "execution_count": 153,
     "metadata": {},
     "output_type": "execute_result"
    }
   ],
   "source": [
    "eri=ao2mo.get_ao_eri(mol)\n",
    "ori=ao2mo.get_mo_eri(eri,sol.mo_coeff)\n",
    "eri,ori\n"
   ]
  },
  {
   "cell_type": "code",
   "execution_count": 155,
   "id": "c4d23dcf",
   "metadata": {},
   "outputs": [
    {
     "data": {
      "text/plain": [
       "array([[6.74594084e-01, 8.32667268e-17, 6.63563991e-01],\n",
       "       [9.71445147e-17, 1.81257915e-01, 4.71844785e-16],\n",
       "       [6.63563991e-01, 3.88578059e-16, 6.97495347e-01]])"
      ]
     },
     "execution_count": 155,
     "metadata": {},
     "output_type": "execute_result"
    }
   ],
   "source": [
    "mo_ints = ao2mo.kernel(mol,sol.mo_coeff)\n",
    "mo_ints"
   ]
  },
  {
   "cell_type": "code",
   "execution_count": 95,
   "id": "b4b6a3a6",
   "metadata": {},
   "outputs": [
    {
     "name": "stdout",
     "output_type": "stream",
     "text": [
      "converged SCF energy = -1.11671432506255\n",
      "converged SCF energy = -1.11671432506255  <S^2> = 0  2S+1 = 1\n",
      "Components of HF Hamiltonian\n",
      "Hcore=\n",
      "[[-1.12040901 -0.95837996]\n",
      " [-0.95837996 -1.12040901]]\n",
      "J=\n",
      "[[[0.67271521 0.44665104]\n",
      "  [0.44665104 0.67271521]]\n",
      "\n",
      " [[0.67271521 0.44665104]\n",
      "  [0.44665104 0.67271521]]]\n",
      "K=\n",
      "[[[0.59055876 0.52880749]\n",
      "  [0.52880749 0.59055876]]\n",
      "\n",
      " [[0.59055876 0.52880749]\n",
      "  [0.52880749 0.59055876]]]\n",
      "S = \n",
      "[[1.         0.65931821]\n",
      " [0.65931821 1.        ]]\n",
      "Confirm how Fock matrix is defined in PySCF\n",
      "Fock Matrix (sol.get_fock()) \n",
      "[[[-0.36553735 -0.59388538]\n",
      "  [-0.59388538 -0.36553735]]\n",
      "\n",
      " [[-0.36553735 -0.59388538]\n",
      "  [-0.59388538 -0.36553735]]]\n",
      "Hcore + 2J - K (as in UHF Szabo & Ostlund Eq. 3.316 with closed shell)\n",
      "[[-0.36553735 -0.59388538]\n",
      " [-0.59388538 -0.36553735]]\n",
      "Orbital Energies: Ex 3.26 in Szabo et. al.\n",
      "[-0.57820298  0.67026777]\n",
      "Properties\n",
      "Total Electronic Energy (Szabo et. al. Ex. 3.40 )\n",
      "-1.831000039348265\n",
      "Nuclear Repulsion Energy = \n",
      "0.7142857142857143\n",
      "Total Ground State Energy (Electronic Energy + Repulsion) \n",
      "-1.1167143250625506\n"
     ]
    }
   ],
   "source": [
    "bond_length = 1.4 # Bohr\n",
    "mol = gto.Mole()\n",
    "mol.build(atom=f'H 0 0 {-bond_length/2};H 0 0 {bond_length/2}',basis='sto-3g',unit='B')\n",
    "\n",
    "sol = scf.RHF(mol)\n",
    "sol.kernel()\n",
    "\n",
    "# Alternatively\n",
    "sol = scf.UHF(mol).run()\n",
    "\n",
    "Hcore = sol.get_hcore()\n",
    "J,K   = sol.get_jk()\n",
    "F     = sol.get_fock()\n",
    "S     = sol.get_ovlp()\n",
    "\n",
    "# Solution to orbitals in Roothan's equation\n",
    "E1,V1 = linalg.eigh(F[0], S)\n",
    "E2,V2 = linalg.eigh(F[1], S)\n",
    "\n",
    "\n",
    "E0 = 1/2*(V1[:,0] @ (Hcore + F[0]) @ V1[:,0] + V2[:,0] @ (Hcore + F[1]) @ V2[:,0])\n",
    "\n",
    "print(\n",
    "    'Components of HF Hamiltonian',\n",
    "    'Hcore=',Hcore, \n",
    "    'J=',J, \n",
    "    'K=',K,\n",
    "    'S = ',S,sep='\\n')\n",
    "print(\n",
    "    'Confirm how Fock matrix is defined in PySCF',\n",
    "    'Fock Matrix (sol.get_fock()) ',F,\n",
    "    'Hcore + 2J - K (as in UHF Szabo & Ostlund Eq. 3.316 with closed shell)',Hcore + 2*J[0] - K[0],\n",
    "    'Orbital Energies: Ex 3.26 in Szabo et. al.',E,\n",
    "    'Properties',\n",
    "    'Total Electronic Energy (Szabo et. al. Ex. 3.40 )', E0,\n",
    "    'Nuclear Repulsion Energy = ',1/bond_length,\n",
    "    'Total Ground State Energy (Electronic Energy + Repulsion) ',E0 + 1/bond_length,\n",
    "    sep='\\n'\n",
    "    )"
   ]
  },
  {
   "cell_type": "markdown",
   "id": "71b423a2",
   "metadata": {},
   "source": [
    "Potential energy surface as a function of Bond Length."
   ]
  },
  {
   "cell_type": "code",
   "execution_count": 11,
   "id": "4d2fe040-dac1-4405-9565-b7b758465591",
   "metadata": {},
   "outputs": [
    {
     "data": {
      "text/plain": [
       "[<matplotlib.lines.Line2D at 0x764795b9d700>]"
      ]
     },
     "execution_count": 11,
     "metadata": {},
     "output_type": "execute_result"
    },
    {
     "data": {
      "image/png": "[encoded data removed]",
      "text/plain": [
       "<Figure size 640x480 with 1 Axes>"
      ]
     },
     "metadata": {},
     "output_type": "display_data"
    }
   ],
   "source": [
    "BondLengths = np.arange(0.4,7.2,0.1)\n",
    "E = np.zeros(len(BondLengths))\n",
    "for i,d in enumerate(BondLengths):\n",
    "    mol = gto.Mole()\n",
    "    mol.build(atom=f'H 0 0 {-d/2};H 0 0 {d/2}',basis='sto-3g',unit='B')\n",
    "    rhf = scf.RHF(mol)\n",
    "    rhf.verbose=0  \n",
    "    rhf.kernel()  \n",
    "    E[i] = rhf.e_tot\n",
    "#\n",
    "fig,ax=PLT.subplots(xlabel='Bond Length [Bohr]',ylabel='Total Energy')\n",
    "ax.plot(BondLengths,E)"
   ]
  },
  {
   "cell_type": "code",
   "execution_count": 108,
   "id": "344eda60-ecf1-48d5-addd-6de3688afdd9",
   "metadata": {},
   "outputs": [
    {
     "name": "stdout",
     "output_type": "stream",
     "text": [
      "0.7142857142857143 (-1.8310000393482655, 0.6745940843233696) -1.116714325062551 [-0.57820298  0.67026777]\n"
     ]
    }
   ],
   "source": [
    "print(sol.energy_nuc(), sol.energy_elec(), sol.energy_tot(),sol.mo_energy)"
   ]
  },
  {
   "cell_type": "code",
   "execution_count": 109,
   "id": "f1d3ac17",
   "metadata": {},
   "outputs": [
    {
     "data": {
      "text/plain": [
       "array([[ 0.54893404,  1.21146407],\n",
       "       [ 0.54893404, -1.21146407]])"
      ]
     },
     "execution_count": 109,
     "metadata": {},
     "output_type": "execute_result"
    }
   ],
   "source": [
    "sol.mo_coeff"
   ]
  },
  {
   "cell_type": "code",
   "execution_count": 116,
   "id": "6981e0b9",
   "metadata": {},
   "outputs": [
    {
     "data": {
      "text/plain": [
       "array([[0.75487166, 0.36449459],\n",
       "       [0.36449459, 0.75487166]])"
      ]
     },
     "execution_count": 116,
     "metadata": {},
     "output_type": "execute_result"
    }
   ],
   "source": [
    "sol.get_veff()"
   ]
  },
  {
   "cell_type": "code",
   "execution_count": 118,
   "id": "79a787ba",
   "metadata": {},
   "outputs": [
    {
     "data": {
      "text/plain": [
       "<pyscf.scf.hf.RHF at 0x764783527410>"
      ]
     },
     "execution_count": 118,
     "metadata": {},
     "output_type": "execute_result"
    }
   ],
   "source": [
    "sol.build()"
   ]
  },
  {
   "cell_type": "code",
   "execution_count": 120,
   "id": "769ad07f",
   "metadata": {},
   "outputs": [
    {
     "name": "stdout",
     "output_type": "stream",
     "text": [
      "converged SCF energy = -1.11671432506255\n"
     ]
    },
    {
     "data": {
      "text/plain": [
       "<pyscf.scf.hf.RHF at 0x764783527410>"
      ]
     },
     "execution_count": 120,
     "metadata": {},
     "output_type": "execute_result"
    }
   ],
   "source": [
    "sol.run()"
   ]
  },
  {
   "cell_type": "code",
   "execution_count": 122,
   "id": "d190d604",
   "metadata": {},
   "outputs": [
    {
     "data": {
      "text/plain": [
       "0.7142857142857143"
      ]
     },
     "execution_count": 122,
     "metadata": {},
     "output_type": "execute_result"
    }
   ],
   "source": [
    "gto.classical_coulomb_energy(mol)"
   ]
  },
  {
   "cell_type": "code",
   "execution_count": 127,
   "id": "d1ff16bf",
   "metadata": {},
   "outputs": [
    {
     "data": {
      "text/plain": [
       "array([[[ 0.        ,  0.        ],\n",
       "        [ 0.        ,  0.        ]],\n",
       "\n",
       "       [[ 0.        ,  0.        ],\n",
       "        [ 0.        ,  0.        ]],\n",
       "\n",
       "       [[ 0.17162944,  0.72602207],\n",
       "        [-0.72602207, -0.17162944]]])"
      ]
     },
     "execution_count": 127,
     "metadata": {},
     "output_type": "execute_result"
    }
   ],
   "source": [
    "gto.moleintor.getints('int1e_ipnuc_sph', mol._atm, mol._bas, mol._env, comp=3)"
   ]
  },
  {
   "cell_type": "code",
   "execution_count": 130,
   "id": "a8dfa055",
   "metadata": {},
   "outputs": [
    {
     "data": {
      "text/plain": [
       "array([[ 1, 20,  1, 23,  0,  0],\n",
       "       [ 1, 24,  1, 27,  0,  0]], dtype=int32)"
      ]
     },
     "metadata": {},
     "output_type": "display_data"
    },
    {
     "data": {
      "text/plain": [
       "array([[ 0,  0,  3,  1,  0, 28, 31,  0],\n",
       "       [ 1,  0,  3,  1,  0, 28, 31,  0]], dtype=int32)"
      ]
     },
     "metadata": {},
     "output_type": "display_data"
    },
    {
     "data": {
      "text/plain": [
       "array([ 0.        ,  0.        ,  0.        ,  0.        ,  0.        ,\n",
       "        0.        ,  0.        ,  0.        ,  0.        ,  0.        ,\n",
       "        0.        ,  0.        ,  0.        ,  0.        ,  0.        ,\n",
       "        0.        ,  0.        ,  0.        ,  0.        ,  0.        ,\n",
       "        0.        ,  0.        , -0.7       ,  0.        ,  0.        ,\n",
       "        0.        ,  0.7       ,  0.        ,  3.42525091,  0.62391373,\n",
       "        0.1688554 ,  0.98170675,  0.94946401,  0.29590645])"
      ]
     },
     "metadata": {},
     "output_type": "display_data"
    }
   ],
   "source": [
    "display(\n",
    "    mol._atm,\n",
    "    mol._bas,\n",
    "    mol._env)"
   ]
  },
  {
   "cell_type": "code",
   "execution_count": 133,
   "id": "47b5c182",
   "metadata": {},
   "outputs": [
    {
     "name": "stdout",
     "output_type": "stream",
     "text": [
      "Help on method intor in module pyscf.gto.mole:\n",
      "\n",
      "intor(intor, comp=None, hermi=0, aosym='s1', out=None, shls_slice=None, grids=None) method of pyscf.gto.mole.Mole instance\n",
      "    Integral generator.\n",
      "\n",
      "    Args:\n",
      "        intor : str\n",
      "            Name of the 1e or 2e AO integrals.  Ref to :func:`getints` for the\n",
      "            complete list of available 1-electron integral names\n",
      "\n",
      "    Kwargs:\n",
      "        comp : int\n",
      "            Components of the integrals, e.g. int1e_ipovlp_sph has 3 components.\n",
      "        hermi : int\n",
      "            Symmetry of the integrals\n",
      "\n",
      "            | 0 : no symmetry assumed (default)\n",
      "            | 1 : hermitian\n",
      "            | 2 : anti-hermitian\n",
      "\n",
      "        shls_slice : 4-element, 6-element or 8-element tuple\n",
      "            Label the start-stop shells for each index in the integral.\n",
      "            For example, the 8-element tuple for the 2-electron integral\n",
      "            tensor (ij|kl) = intor('int2e') are specified as\n",
      "            (ish_start, ish_end, jsh_start, jsh_end, ksh_start, ksh_end, lsh_start, lsh_end)\n",
      "        grids : ndarray\n",
      "            Coordinates of grids for the int1e_grids integrals\n",
      "\n",
      "    Returns:\n",
      "        ndarray of 1-electron integrals, can be either 2-dim or 3-dim, depending on comp\n",
      "\n",
      "    Examples:\n",
      "\n",
      "    >>> mol.build(atom='H 0 0 0; H 0 0 1.1', basis='sto-3g')\n",
      "    >>> mol.intor('int1e_ipnuc_sph', comp=3) # <nabla i | V_nuc | j>\n",
      "    [[[ 0.          0.        ]\n",
      "      [ 0.          0.        ]]\n",
      "     [[ 0.          0.        ]\n",
      "      [ 0.          0.        ]]\n",
      "     [[ 0.10289944  0.48176097]\n",
      "      [-0.48176097 -0.10289944]]]\n",
      "    >>> mol.intor('int1e_nuc_spinor')\n",
      "    [[-1.69771092+0.j  0.00000000+0.j -0.67146312+0.j  0.00000000+0.j]\n",
      "     [ 0.00000000+0.j -1.69771092+0.j  0.00000000+0.j -0.67146312+0.j]\n",
      "     [-0.67146312+0.j  0.00000000+0.j -1.69771092+0.j  0.00000000+0.j]\n",
      "     [ 0.00000000+0.j -0.67146312+0.j  0.00000000+0.j -1.69771092+0.j]]\n",
      "\n"
     ]
    }
   ],
   "source": [
    "help(mol.intor)"
   ]
  },
  {
   "cell_type": "code",
   "execution_count": 140,
   "id": "d15a4c17",
   "metadata": {},
   "outputs": [
    {
     "data": {
      "text/plain": [
       "array([[1.        +0.j, 0.        +0.j, 0.65931821+0.j, 0.        +0.j],\n",
       "       [0.        +0.j, 1.        +0.j, 0.        +0.j, 0.65931821+0.j],\n",
       "       [0.65931821+0.j, 0.        +0.j, 1.        +0.j, 0.        +0.j],\n",
       "       [0.        +0.j, 0.65931821+0.j, 0.        +0.j, 1.        +0.j]])"
      ]
     },
     "execution_count": 140,
     "metadata": {},
     "output_type": "execute_result"
    }
   ],
   "source": [
    "gto.getints('int1e_ovlp',mol._atm, mol._bas, mol._env)"
   ]
  },
  {
   "cell_type": "code",
   "execution_count": 144,
   "id": "fcf46a88",
   "metadata": {},
   "outputs": [
    {
     "data": {
      "text/plain": [
       "((2, 2, 2, 2),\n",
       " array([[[[0.77460594, 0.44410766],\n",
       "          [0.44410766, 0.56967593]],\n",
       " \n",
       "         [[0.44410766, 0.29702854],\n",
       "          [0.29702854, 0.44410766]]],\n",
       " \n",
       " \n",
       "        [[[0.44410766, 0.29702854],\n",
       "          [0.29702854, 0.44410766]],\n",
       " \n",
       "         [[0.56967593, 0.44410766],\n",
       "          [0.44410766, 0.77460594]]]]))"
      ]
     },
     "execution_count": 144,
     "metadata": {},
     "output_type": "execute_result"
    }
   ],
   "source": [
    "I = mol.intor('int2e')\n",
    "I.shape, I "
   ]
  },
  {
   "cell_type": "code",
   "execution_count": 139,
   "id": "85dd9ffe",
   "metadata": {},
   "outputs": [
    {
     "name": "stdout",
     "output_type": "stream",
     "text": [
      "Help on function getints in module pyscf.gto.moleintor:\n",
      "\n",
      "getints(intor_name, atm, bas, env, shls_slice=None, comp=None, hermi=0, aosym='s1', ao_loc=None, cintopt=None, out=None)\n",
      "    1e and 2e integral generator.\n",
      "\n",
      "    Args:\n",
      "        intor_name : str\n",
      "\n",
      "            ================================  =============\n",
      "            Function                          Expression\n",
      "            ================================  =============\n",
      "            \"int1e_ovlp\"                      ( \\| \\)\n",
      "            \"int1e_nuc\"                       ( \\| nuc \\| \\)\n",
      "            \"int1e_kin\"                       (.5 \\| p dot p\\)\n",
      "            \"int1e_ia01p\"                     (#C(0 1) \\| nabla-rinv \\| cross p\\)\n",
      "            \"int1e_giao_irjxp\"                (#C(0 1) \\| r cross p\\)\n",
      "            \"int1e_cg_irxp\"                   (#C(0 1) \\| rc cross p\\)\n",
      "            \"int1e_giao_a11part\"              (-.5 \\| nabla-rinv \\| r\\)\n",
      "            \"int1e_cg_a11part\"                (-.5 \\| nabla-rinv \\| rc\\)\n",
      "            \"int1e_a01gp\"                     (g \\| nabla-rinv cross p \\|\\)\n",
      "            \"int1e_igkin\"                     (#C(0 .5) g \\| p dot p\\)\n",
      "            \"int1e_igovlp\"                    (#C(0 1) g \\|\\)\n",
      "            \"int1e_ignuc\"                     (#C(0 1) g \\| nuc \\|\\)\n",
      "            \"int1e_z\"                         ( \\| zc \\| \\)\n",
      "            \"int1e_zz\"                        ( \\| zc zc \\| \\)\n",
      "            \"int1e_r\"                         ( \\| rc \\| \\)\n",
      "            \"int1e_r2\"                        ( \\| rc dot rc \\| \\)\n",
      "            \"int1e_rr\"                        ( \\| rc rc \\| \\)\n",
      "            \"int1e_rrr\"                       ( \\| rc rc rc \\| \\)\n",
      "            \"int1e_rrrr\"                      ( \\| rc rc rc rc \\| \\)\n",
      "            \"int1e_pnucp\"                     (p* \\| nuc dot p \\| \\)\n",
      "            \"int1e_prinvxp\"                   (p* \\| rinv cross p \\| \\)\n",
      "            \"int1e_ipovlp\"                    (nabla \\|\\)\n",
      "            \"int1e_ipkin\"                     (.5 nabla \\| p dot p\\)\n",
      "            \"int1e_ipnuc\"                     (nabla \\| nuc \\|\\)\n",
      "            \"int1e_iprinv\"                    (nabla \\| rinv \\|\\)\n",
      "            \"int1e_rinv\"                      (\\| rinv \\|\\)\n",
      "            \"int1e_pnucxp\"                    (p* \\| nuc cross p \\| \\)\n",
      "            \"int1e_irp\"                       ( \\| rc nabla \\| \\)\n",
      "            \"int1e_irrp\"                      ( \\| rc rc nabla \\| \\)\n",
      "            \"int1e_irpr\"                      ( \\| rc nabla rc \\| \\)\n",
      "            \"int1e_ggovlp\"                    ( \\| g g \\| \\)\n",
      "            \"int1e_ggkin\"                     (.5 \\| g g p dot p \\| \\)\n",
      "            \"int1e_ggnuc\"                     ( \\| g g nuc \\| \\)\n",
      "            \"int1e_grjxp\"                     ( \\| g r cross p \\| \\)\n",
      "            \"ECPscalar\"                       AREP ECP integrals, similar to int1e_nuc\n",
      "            \"ECPscalar_ipnuc\"                 (nabla i | ECP | ), similar to int1e_ipnuc\n",
      "            \"ECPscalar_iprinv\"                similar to int1e_iprinv for a specific atom\n",
      "            \"ECPscalar_ignuc\"                 similar to int1e_ignuc\n",
      "            \"ECPscalar_iprinvip\"              similar to int1e_iprinvip\n",
      "            \"ECPso\"                           < | Spin-orbit ECP | >\n",
      "            \"int1e_ovlp_spinor\"               ( \\| \\)\n",
      "            \"int1e_nuc_spinor\"                ( \\| nuc \\|\\)\n",
      "            \"int1e_srsr_spinor\"               (sigma dot r \\| sigma dot r\\)\n",
      "            \"int1e_sr_spinor\"                 (sigma dot r \\|\\)\n",
      "            \"int1e_srsp_spinor\"               (sigma dot r \\| sigma dot p\\)\n",
      "            \"int1e_spsp_spinor\"               (sigma dot p \\| sigma dot p\\)\n",
      "            \"int1e_sp_spinor\"                 (sigma dot p \\|\\)\n",
      "            \"int1e_spnucsp_spinor\"            (sigma dot p \\| nuc \\| sigma dot p\\)\n",
      "            \"int1e_srnucsr_spinor\"            (sigma dot r \\| nuc \\| sigma dot r\\)\n",
      "            \"int1e_govlp_spinor\"              (g \\|\\)\n",
      "            \"int1e_gnuc_spinor\"               (g \\| nuc \\|\\)\n",
      "            \"int1e_cg_sa10sa01_spinor\"        (.5 sigma cross rc \\| sigma cross nabla-rinv \\|\\)\n",
      "            \"int1e_cg_sa10sp_spinor\"          (.5 rc cross sigma \\| sigma dot p\\)\n",
      "            \"int1e_cg_sa10nucsp_spinor\"       (.5 rc cross sigma \\| nuc \\| sigma dot p\\)\n",
      "            \"int1e_giao_sa10sa01_spinor\"      (.5 sigma cross r \\| sigma cross nabla-rinv \\|\\)\n",
      "            \"int1e_giao_sa10sp_spinor\"        (.5 r cross sigma \\| sigma dot p\\)\n",
      "            \"int1e_giao_sa10nucsp_spinor\"     (.5 r cross sigma \\| nuc \\| sigma dot p\\)\n",
      "            \"int1e_sa01sp_spinor\"             (\\| nabla-rinv cross sigma \\| sigma dot p\\)\n",
      "            \"int1e_spgsp_spinor\"              (g sigma dot p \\| sigma dot p\\)\n",
      "            \"int1e_spgnucsp_spinor\"           (g sigma dot p \\| nuc \\| sigma dot p\\)\n",
      "            \"int1e_spgsa01_spinor\"            (g sigma dot p \\| nabla-rinv cross sigma \\|\\)\n",
      "            \"int1e_spspsp_spinor\"             (sigma dot p \\| sigma dot p sigma dot p\\)\n",
      "            \"int1e_spnuc_spinor\"              (sigma dot p \\| nuc \\|\\)\n",
      "            \"int1e_ipovlp_spinor\"             (nabla \\|\\)\n",
      "            \"int1e_ipkin_spinor\"              (.5 nabla \\| p dot p\\)\n",
      "            \"int1e_ipnuc_spinor\"              (nabla \\| nuc \\|\\)\n",
      "            \"int1e_iprinv_spinor\"             (nabla \\| rinv \\|\\)\n",
      "            \"int1e_ipspnucsp_spinor\"          (nabla sigma dot p \\| nuc \\| sigma dot p\\)\n",
      "            \"int1e_ipsprinvsp_spinor\"         (nabla sigma dot p \\| rinv \\| sigma dot p\\)\n",
      "            \"int1e_grids\"                     ( \\| 1/r_grids \\| \\)\n",
      "            \"int1e_grids_spinor\"              ( \\| 1/r_grids \\| \\)\n",
      "            \"int1e_grids_ip\"                  (nabla \\| 1/r_grids \\| \\)\n",
      "            \"int1e_grids_ip_spinor\"           (nabla \\| 1/r_grids \\| \\)\n",
      "            \"int1e_grids_spvsp_spinor\"        (sigma dot p \\| 1/r_grids \\| sigma dot p\\)\n",
      "            \"int2e\"                           ( \\, \\| \\, \\)\n",
      "            \"int2e_ig1\"                       (#C(0 1) g \\, \\| \\, \\)\n",
      "            \"int2e_gg1\"                       (g g \\, \\| \\, \\)\n",
      "            \"int2e_g1g2\"                      (g \\, \\| g \\, \\)\n",
      "            \"int2e_p1vxp1\"                    ( p* \\, cross p \\| \\, \\) ; SSO\n",
      "            \"int2e_spinor\"                    (, \\| \\, \\)\n",
      "            \"int2e_spsp1_spinor\"              (sigma dot p \\, sigma dot p \\| \\, \\)\n",
      "            \"int2e_spsp1spsp2_spinor\"         (sigma dot p \\, sigma dot p \\| sigma dot p \\, sigma dot p \\)\n",
      "            \"int2e_srsr1_spinor\"              (sigma dot r \\, sigma dot r \\| \\,\\)\n",
      "            \"int2e_srsr1srsr2_spinor\"         (sigma dot r \\, sigma dot r \\| sigma dot r \\, sigma dot r\\)\n",
      "            \"int2e_cg_sa10sp1_spinor\"         (.5 rc cross sigma \\, sigma dot p \\| \\,\\)\n",
      "            \"int2e_cg_sa10sp1spsp2_spinor\"    (.5 rc cross sigma \\, sigma dot p \\| sigma dot p \\, sigma dot p \\)\n",
      "            \"int2e_giao_sa10sp1_spinor\"       (.5 r cross sigma \\, sigma dot p \\| \\,\\)\n",
      "            \"int2e_giao_sa10sp1spsp2_spinor\"  (.5 r cross sigma \\, sigma dot p \\| sigma dot p \\, sigma dot p \\)\n",
      "            \"int2e_g1_spinor\"                 (g \\, \\| \\,\\)\n",
      "            \"int2e_spgsp1_spinor\"             (g sigma dot p \\, sigma dot p \\| \\,\\)\n",
      "            \"int2e_g1spsp2_spinor\"            (g \\, \\| sigma dot p \\, sigma dot p\\)\n",
      "            \"int2e_spgsp1spsp2_spinor\"        (g sigma dot p \\, sigma dot p \\| sigma dot p \\, sigma dot p\\)\n",
      "            \"int2e_spv1_spinor\"               (sigma dot p \\, \\| \\,\\)\n",
      "            \"int2e_vsp1_spinor\"               (\\, sigma dot p \\| \\,\\)\n",
      "            \"int2e_spsp2_spinor\"              (\\, \\| sigma dot p \\, sigma dot p\\)\n",
      "            \"int2e_spv1spv2_spinor\"           (sigma dot p \\, \\| sigma dot p \\,\\)\n",
      "            \"int2e_vsp1spv2_spinor\"           (\\, sigma dot p \\| sigma dot p \\,\\)\n",
      "            \"int2e_spv1vsp2_spinor\"           (sigma dot p \\, \\| \\, sigma dot p\\)\n",
      "            \"int2e_vsp1vsp2_spinor\"           (\\, sigma dot p \\| \\, sigma dot p\\)\n",
      "            \"int2e_spv1spsp2_spinor\"          (sigma dot p \\, \\| sigma dot p \\, sigma dot p\\)\n",
      "            \"int2e_vsp1spsp2_spinor\"          (\\, sigma dot p \\| sigma dot p \\, sigma dot p\\)\n",
      "            \"int2e_ig1\"                       (#C(0 1) g \\, \\| \\, \\)\n",
      "            \"int2e_ip1\"                       (nabla \\, \\| \\,\\)\n",
      "            \"int2e_ip1_spinor\"                (nabla \\, \\| \\,\\)\n",
      "            \"int2e_ipspsp1_spinor\"            (nabla sigma dot p \\, sigma dot p \\| \\,\\)\n",
      "            \"int2e_ip1spsp2_spinor\"           (nabla \\, \\| sigma dot p \\, sigma dot p\\)\n",
      "            \"int2e_ipspsp1spsp2_spinor\"       (nabla sigma dot p \\, sigma dot p \\| sigma dot p \\, sigma dot p\\)\n",
      "            \"int2e_ipsrsr1_spinor\"            (nabla sigma dot r \\, sigma dot r \\| \\,\\)\n",
      "            \"int2e_ip1srsr2_spinor\"           (nabla \\, \\| sigma dot r \\, sigma dot r\\)\n",
      "            \"int2e_ipsrsr1srsr2_spinor\"       (nabla sigma dot r \\, sigma dot r \\| sigma dot r \\, sigma dot r\\)\n",
      "            \"int2e_ip1\"                       (nabla \\, \\| \\,\\)\n",
      "            \"int2e_ssp1ssp2_spinor\"           ( \\, sigma dot p \\| gaunt \\| \\, sigma dot p\\)\n",
      "            \"int2e_cg_ssa10ssp2_spinor\"       (rc cross sigma \\, \\| gaunt \\| \\, sigma dot p\\)\n",
      "            \"int2e_giao_ssa10ssp2_spinor\"     (r cross sigma  \\, \\| gaunt \\| \\, sigma dot p\\)\n",
      "            \"int2e_gssp1ssp2_spinor\"          (g \\, sigma dot p  \\| gaunt \\| \\, sigma dot p\\)\n",
      "            \"int2e_ipip1\"                     ( nabla nabla \\, \\| \\, \\)\n",
      "            \"int2e_ipvip1\"                    ( nabla \\, nabla \\| \\, \\)\n",
      "            \"int2e_ip1ip2\"                    ( nabla \\, \\| nabla \\, \\)\n",
      "            \"int3c2e_ip1\"                     (nabla \\, \\| \\)\n",
      "            \"int3c2e_ip2\"                     ( \\, \\| nabla\\)\n",
      "            \"int2c2e_ip1\"                     (nabla \\| r12 \\| \\)\n",
      "            \"int3c2e_spinor\"                  (nabla \\, \\| \\)\n",
      "            \"int3c2e_spsp1_spinor\"            (nabla \\, \\| \\)\n",
      "            \"int3c2e_ip1_spinor\"              (nabla \\, \\| \\)\n",
      "            \"int3c2e_ip2_spinor\"              ( \\, \\| nabla\\)\n",
      "            \"int3c2e_ipspsp1_spinor\"          (nabla sigma dot p \\, sigma dot p \\| \\)\n",
      "            \"int3c2e_spsp1ip2_spinor\"         (sigma dot p \\, sigma dot p \\| nabla \\)\n",
      "            \"ECPscalar_spinor\"                AREP ECP integrals, similar to int1e_nuc\n",
      "            \"ECPscalar_ipnuc_spinor\"          (nabla i | ECP | ), similar to int1e_ipnuc\n",
      "            \"ECPscalar_iprinv_spinor\"         similar to int1e_iprinv for a specific atom\n",
      "            \"ECPscalar_ignuc_spinor\"          similar to int1e_ignuc\n",
      "            \"ECPscalar_iprinvip_spinor\"       similar to int1e_iprinvip\n",
      "            \"ECPso_spinor\"                    < | sigam dot Spin-orbit ECP | >\n",
      "            ================================  =============\n",
      "\n",
      "        atm : int32 ndarray\n",
      "            libcint integral function argument\n",
      "        bas : int32 ndarray\n",
      "            libcint integral function argument\n",
      "        env : float64 ndarray\n",
      "            libcint integral function argument\n",
      "\n",
      "    Kwargs:\n",
      "        shls_slice : 8-element list\n",
      "            (ish_start, ish_end, jsh_start, jsh_end, ksh_start, ksh_end, lsh_start, lsh_end)\n",
      "        comp : int\n",
      "            Components of the integrals, e.g. int1e_ipovlp has 3 components.\n",
      "        hermi : int (1e integral only)\n",
      "            Symmetry of the 1e integrals\n",
      "\n",
      "            | 0 : no symmetry assumed (default)\n",
      "            | 1 : hermitian\n",
      "            | 2 : anti-hermitian\n",
      "\n",
      "        aosym : str (2e integral only)\n",
      "            Symmetry of the 2e integrals\n",
      "\n",
      "            | 4 or '4' or 's4': 4-fold symmetry (default)\n",
      "            | '2ij' or 's2ij' : symmetry between i, j in (ij|kl)\n",
      "            | '2kl' or 's2kl' : symmetry between k, l in (ij|kl)\n",
      "            | 1 or '1' or 's1': no symmetry\n",
      "\n",
      "        out : ndarray (2e integral only)\n",
      "            array to store the 2e AO integrals\n",
      "\n",
      "    Returns:\n",
      "        ndarray of 1-electron integrals, can be either 2-dim or 3-dim, depending on comp\n",
      "\n",
      "    Examples:\n",
      "\n",
      "    >>> mol.build(atom='H 0 0 0; H 0 0 1.1', basis='sto-3g')\n",
      "    >>> gto.getints('int1e_ipnuc_sph', mol._atm, mol._bas, mol._env, comp=3) # <nabla i | V_nuc | j>\n",
      "    [[[ 0.          0.        ]\n",
      "      [ 0.          0.        ]]\n",
      "     [[ 0.          0.        ]\n",
      "      [ 0.          0.        ]]\n",
      "     [[ 0.10289944  0.48176097]\n",
      "      [-0.48176097 -0.10289944]]]\n",
      "\n"
     ]
    }
   ],
   "source": [
    "help(gto.getints)"
   ]
  },
  {
   "cell_type": "code",
   "execution_count": null,
   "id": "035563cb",
   "metadata": {},
   "outputs": [],
   "source": []
  }
 ],
 "metadata": {
  "kernelspec": {
   "display_name": "Python 3 (ipykernel)",
   "language": "python",
   "name": "python3"
  },
  "language_info": {
   "codemirror_mode": {
    "name": "ipython",
    "version": 3
   },
   "file_extension": ".py",
   "mimetype": "text/x-python",
   "name": "python",
   "nbconvert_exporter": "python",
   "pygments_lexer": "ipython3",
   "version": "3.12.8"
  }
 },
 "nbformat": 4,
 "nbformat_minor": 5
}
