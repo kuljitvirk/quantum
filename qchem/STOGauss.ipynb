{
 "cells": [
  {
   "cell_type": "code",
   "execution_count": 92,
   "metadata": {},
   "outputs": [
    {
     "name": "stdout",
     "output_type": "stream",
     "text": [
      "0.10000,0.86421\n",
      "0.20000,0.96730\n",
      "0.27095,0.97840\n",
      "0.30000,0.97716\n",
      "0.40000,0.96063\n",
      "0.50000,0.93548\n"
     ]
    }
   ],
   "source": [
    "import numpy as np\n",
    "from scipy import special\n",
    "from scipy import optimize\n",
    "from math import pi,sqrt\n",
    "from quantum.utils import plotting as PLT\n",
    "\n",
    "def norm(vec : np.ndarray):\n",
    "    vec = np.asarray(vec)\n",
    "    alpha = vec[:len(vec)//2]\n",
    "    coeff = vec[len(vec)//2:]\n",
    "    A = alpha[:,None] * alpha\n",
    "    B = alpha[:,None] + alpha\n",
    "    C = coeff[:,None] * coeff\n",
    "    nrm = 2**(3/2)* A**(3/4)/B**(3/2) * C\n",
    "    nrm = np.sum(nrm)\n",
    "    return nrm\n",
    "\n",
    "def correlation(vec : np.ndarray):\n",
    "    vec = np.asarray(vec)\n",
    "    alpha = vec[:len(vec)//2]\n",
    "    coeff = vec[len(vec)//2:]\n",
    "    S = -2*np.sqrt(alpha) + np.exp(0.25/alpha)*sqrt(pi)*(1 + 2*alpha)*special.erfc(0.5/np.sqrt(alpha))\n",
    "    S /= 4*2**(1/4)*pi**(5/4)*alpha**(7/4)\n",
    "    return 4*pi*np.sum( coeff * S ) / norm(vec)\n",
    "\n",
    "def slater(r):\n",
    "    return np.exp(-r) * sqrt(1./pi)\n",
    "\n",
    "def cgf(r,vec):\n",
    "    vec = np.asarray(vec)\n",
    "    alpha = vec[:len(vec)//2]\n",
    "    coeff = vec[len(vec)//2:]\n",
    "    f=np.zeros_like(r) \n",
    "    for i in range(len(coeff)):\n",
    "        f += coeff[i] *(2*alpha[i]/pi)**(3/4)* np.exp(-alpha[i]*r**2)\n",
    "    return f\n",
    "\n",
    "\n",
    "for x in [0.1,0.2,0.27095,0.3,0.4,0.5]:\n",
    "    print('{:0.05f},{:0.5f}'.format(x, correlation([x,1])))\n"
   ]
  },
  {
   "cell_type": "code",
   "execution_count": 63,
   "metadata": {},
   "outputs": [
    {
     "data": {
      "text/plain": [
       "(1.0000012960111682, 0.9984190559008749)"
      ]
     },
     "execution_count": 63,
     "metadata": {},
     "output_type": "execute_result"
    }
   ],
   "source": [
    "v=[0.151623,0.851819,0.678914,0.430129]\n",
    "norm(v), correlation(v)"
   ]
  },
  {
   "cell_type": "code",
   "execution_count": 72,
   "metadata": {},
   "outputs": [
    {
     "name": "stderr",
     "output_type": "stream",
     "text": [
      "/opt/python/anaconda3/envs/pmp/lib/python3.11/site-packages/scipy/optimize/_differentiable_functions.py:504: UserWarning: delta_grad == 0.0. Check if the approximated function is linear. If the function is linear better results can be obtained by defining the Hessian as zero instead of using quasi-Newton approximations.\n",
      "  self.H.update(delta_x, delta_g)\n"
     ]
    },
    {
     "data": {
      "text/plain": [
       "array([0.15161996, 0.8517832 , 0.67889979, 0.43014168])"
      ]
     },
     "metadata": {},
     "output_type": "display_data"
    },
    {
     "name": "stdout",
     "output_type": "stream",
     "text": [
      "1.0000000142046572 0.9984196957806669\n"
     ]
    }
   ],
   "source": [
    "sol = optimize.differential_evolution(lambda x : -correlation(x), bounds=[(0.05,1.0),(0.05,1.0),(0.01,1.0),(0.01,1.0)],\n",
    "                        constraints=optimize.NonlinearConstraint(lambda x : np.abs(1-norm(x)), 0.,1e-6),\n",
    "                        maxiter=10000,popsize=30)\n",
    "display(sol.x)\n",
    "print(norm(sol.x),correlation(sol.x))"
   ]
  },
  {
   "cell_type": "code",
   "execution_count": 75,
   "metadata": {},
   "outputs": [
    {
     "data": {
      "text/plain": [
       "array([0.72556577, 0.23990455, 2.96548664, 0.01017306, 0.95267945,\n",
       "       0.09201053])"
      ]
     },
     "metadata": {},
     "output_type": "display_data"
    },
    {
     "name": "stdout",
     "output_type": "stream",
     "text": [
      "1.0000008801657643 0.9883953483201942\n"
     ]
    }
   ],
   "source": [
    "sol = optimize.differential_evolution(lambda x : -correlation(x), bounds=[(0.05,10.0),(0.05,10.0),(0.05,10.0),(0.01,1.0),(0.01,1.0),(0.01,1.0)],\n",
    "                        constraints=optimize.NonlinearConstraint(lambda x : np.abs(1-norm(x)), 0.,1e-6),\n",
    "                        maxiter=10000,popsize=30)\n",
    "display(sol.x)\n",
    "print(norm(sol.x),correlation(sol.x))"
   ]
  },
  {
   "cell_type": "code",
   "execution_count": 80,
   "metadata": {},
   "outputs": [
    {
     "data": {
      "text/plain": [
       " message: Optimization terminated successfully\n",
       " success: True\n",
       "  status: 0\n",
       "     fun: -0.9986829380895975\n",
       "       x: [ 1.441e-01  3.456e-01  9.193e-01  6.123e-01  1.249e-01\n",
       "            3.730e-01]\n",
       "     nit: 27\n",
       "     jac: [ 6.477e-01 -2.111e-02 -9.263e-02  9.291e-01  9.678e-01\n",
       "            8.272e-01]\n",
       "    nfev: 200\n",
       "    njev: 27"
      ]
     },
     "execution_count": 80,
     "metadata": {},
     "output_type": "execute_result"
    }
   ],
   "source": [
    "sol = optimize.minimize(lambda x : -correlation(x),x0=np.random.uniform(size=6), bounds=[(0.05,10.0),(0.05,10.0),(0.05,10.0),(0.01,1.0),(0.01,1.0),(0.01,1.0)],\n",
    "                        constraints=optimize.NonlinearConstraint(lambda x : np.abs(1-norm(x)), 0.,1e-6))\n",
    "sol"
   ]
  },
  {
   "cell_type": "code",
   "execution_count": 83,
   "metadata": {},
   "outputs": [
    {
     "data": {
      "text/plain": [
       "(1.0000014259978642, 0.9998340233713282)"
      ]
     },
     "execution_count": 83,
     "metadata": {},
     "output_type": "execute_result"
    }
   ],
   "source": [
    "v=[0.109818,0.405771,2.22766,0.444635,0.535328,0.154329]\n",
    "norm(v), correlation(v)"
   ]
  },
  {
   "cell_type": "code",
   "execution_count": 99,
   "metadata": {},
   "outputs": [
    {
     "data": {
      "text/plain": [
       "Text(0.5, 0, 'r [a.u.]')"
      ]
     },
     "execution_count": 99,
     "metadata": {},
     "output_type": "execute_result"
    },
    {
     "data": {
      "image/png": "[encoded data removed]",
      "text/plain": [
       "<Figure size 640x480 with 1 Axes>"
      ]
     },
     "metadata": {},
     "output_type": "display_data"
    }
   ],
   "source": [
    "fig,ax=PLT.subplots()\n",
    "r = np.linspace(0,4)\n",
    "ax.plot(r, slater(r),label='Slater',lw=2)\n",
    "ax.plot(r, cgf(r,sol.x),label='Solution 1',lw=1,ls='--')\n",
    "ax.plot(r, cgf(r,v),label='Ostlund & Szabo',lw=1,ls='--')\n",
    "ax.set_yscale('log')\n",
    "ax.legend()\n",
    "ax.set_xlabel('r [a.u.]')"
   ]
  },
  {
   "cell_type": "code",
   "execution_count": null,
   "metadata": {},
   "outputs": [],
   "source": []
  }
 ],
 "metadata": {
  "kernelspec": {
   "display_name": "pmp",
   "language": "python",
   "name": "python3"
  },
  "language_info": {
   "codemirror_mode": {
    "name": "ipython",
    "version": 3
   },
   "file_extension": ".py",
   "mimetype": "text/x-python",
   "name": "python",
   "nbconvert_exporter": "python",
   "pygments_lexer": "ipython3",
   "version": "3.11.9"
  }
 },
 "nbformat": 4,
 "nbformat_minor": 2
}
